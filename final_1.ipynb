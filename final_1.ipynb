{
 "cells": [
  {
   "cell_type": "code",
   "execution_count": 51,
   "metadata": {},
   "outputs": [
    {
     "name": "stdout",
     "output_type": "stream",
     "text": [
      "showing info https://raw.githubusercontent.com/nltk/nltk_data/gh-pages/index.xml\n"
     ]
    },
    {
     "data": {
      "text/plain": [
       "True"
      ]
     },
     "execution_count": 51,
     "metadata": {},
     "output_type": "execute_result"
    }
   ],
   "source": [
    "import os\n",
    "import random\n",
    "import numpy as np\n",
    "import pandas as pd\n",
    "import re\n",
    "\n",
    "import nltk\n",
    "from nltk.tokenize import sent_tokenize, TreebankWordTokenizer\n",
    "from nltk.corpus import stopwords\n",
    "from nltk.stem import WordNetLemmatizer\n",
    "\n",
    "from imblearn.under_sampling import NeighbourhoodCleaningRule\n",
    "\n",
    "from sklearn.feature_extraction.text import CountVectorizer, TfidfVectorizer\n",
    "from sklearn.metrics import accuracy_score, classification_report\n",
    "from sklearn.model_selection import train_test_split, cross_val_score, GridSearchCV, KFold\n",
    "from sklearn.linear_model import LogisticRegression\n",
    "from sklearn.svm import SVC\n",
    "from sklearn.ensemble import VotingClassifier, BaggingClassifier, StackingClassifier\n",
    "\n",
    "from utils_two import *\n",
    "\n",
    "nltk.download()"
   ]
  },
  {
   "cell_type": "code",
   "execution_count": 52,
   "metadata": {},
   "outputs": [],
   "source": [
    "# Fix Seed\n",
    "def seed_everything(seed):\n",
    "    random.seed(seed)\n",
    "    np.random.seed(seed)\n",
    "    os.environ['PYTHONHASHSEED'] = str(seed)\n",
    "\n",
    "seed_everything(42)"
   ]
  },
  {
   "cell_type": "code",
   "execution_count": 53,
   "metadata": {},
   "outputs": [],
   "source": [
    "# Load Data\n",
    "train = pd.read_csv('./data/train.csv').drop('ID', axis=1)\n",
    "test = pd.read_csv('./data/test.csv').drop('ID', axis=1)\n",
    "submission = pd.read_csv('./data/sample_submission.csv')"
   ]
  },
  {
   "cell_type": "code",
   "execution_count": 54,
   "metadata": {},
   "outputs": [],
   "source": [
    "# 문자열 전처리\n",
    "cols = ['first_party', 'second_party', 'facts']\n",
    "shortword = re.compile(r'\\W*\\b\\w{1}\\b')\n",
    "tokenizer = TreebankWordTokenizer()\n",
    "stopword = stopwords.words('english')\n",
    "lemmatizer = WordNetLemmatizer()\n",
    "\n",
    "first_train, second_train, facts_train = preprocessing(train, cols, shortword, tokenizer, stopword, lemmatizer)\n",
    "first_test, second_test, facts_test = preprocessing(test, cols, shortword, tokenizer, stopword, lemmatizer)\n",
    "\n",
    "vec = CountVectorizer(ngram_range=(1,2))\n",
    "vec_facts = TfidfVectorizer(ngram_range=(1,2))\n",
    "\n",
    "X_train = preprocessing_2(first_train, second_train, facts_train, vec, vec_facts)\n",
    "y_train = train['first_party_winner']\n",
    "X_test = preprocessing_2(first_test, second_test, facts_test, vec, vec_facts, train=False)"
   ]
  },
  {
   "cell_type": "code",
   "execution_count": 55,
   "metadata": {},
   "outputs": [
    {
     "name": "stdout",
     "output_type": "stream",
     "text": [
      "Train Data Shape\n",
      "(2478, 211292) (2478,)\n",
      "====================\n",
      "Train target\n",
      "first_party_winner\n",
      "1    1649\n",
      "0     829\n",
      "Name: count, dtype: int64\n",
      "====================\n",
      "Test Data Shape\n",
      "(1240, 211292)\n"
     ]
    }
   ],
   "source": [
    "print('Train Data Shape')\n",
    "print(X_train.shape, y_train.shape)\n",
    "print('='*20)\n",
    "print('Train target')\n",
    "print(y_train.value_counts())\n",
    "print('='*20)\n",
    "print('Test Data Shape')\n",
    "print(X_test.shape)"
   ]
  },
  {
   "cell_type": "code",
   "execution_count": 56,
   "metadata": {},
   "outputs": [
    {
     "name": "stdout",
     "output_type": "stream",
     "text": [
      "Train Data Shape after OverSampling\n",
      "(1601, 211292) (1601,)\n",
      "====================\n",
      "Train target after OverSampling\n",
      "first_party_winner\n",
      "0    829\n",
      "1    772\n",
      "Name: count, dtype: int64\n"
     ]
    }
   ],
   "source": [
    "X_nc, y_nc = NeighbourhoodCleaningRule(n_neighbors=5).fit_resample(X_train, y_train)\n",
    "print('Train Data Shape after OverSampling')\n",
    "print(X_nc.shape, y_nc.shape)\n",
    "print('='*20)\n",
    "print('Train target after OverSampling')\n",
    "print(y_nc.value_counts())"
   ]
  },
  {
   "cell_type": "code",
   "execution_count": 57,
   "metadata": {},
   "outputs": [
    {
     "name": "stdout",
     "output_type": "stream",
     "text": [
      "Train Data Shape\n",
      "(1280, 211292) (1280,)\n",
      "--------------------\n",
      "Train target\n",
      "first_party_winner\n",
      "0    663\n",
      "1    617\n",
      "Name: count, dtype: int64\n",
      "====================\n",
      "Validation Data Shape\n",
      "(321, 211292) (321,)\n",
      "--------------------\n",
      "Validation target\n",
      "first_party_winner\n",
      "0    166\n",
      "1    155\n",
      "Name: count, dtype: int64\n"
     ]
    }
   ],
   "source": [
    "# Train, Validation 분리\n",
    "Train_X, Val_X, Train_y, Val_y = train_test_split(X_nc, y_nc, test_size=.2, random_state=42, stratify=y_nc)\n",
    "print('Train Data Shape')\n",
    "print(Train_X.shape, Train_y.shape)\n",
    "print('-'*20)\n",
    "print('Train target')\n",
    "print(Train_y.value_counts())\n",
    "print('='*20)\n",
    "print('Validation Data Shape')\n",
    "print(Val_X.shape, Val_y.shape)\n",
    "print('-'*20)\n",
    "print('Validation target')\n",
    "print(Val_y.value_counts())"
   ]
  },
  {
   "cell_type": "code",
   "execution_count": 60,
   "metadata": {},
   "outputs": [
    {
     "name": "stdout",
     "output_type": "stream",
     "text": [
      "              precision    recall  f1-score   support\n",
      "\n",
      "           0       0.68      0.75      0.71       166\n",
      "           1       0.70      0.62      0.66       155\n",
      "\n",
      "    accuracy                           0.69       321\n",
      "   macro avg       0.69      0.68      0.68       321\n",
      "weighted avg       0.69      0.69      0.68       321\n",
      "\n"
     ]
    }
   ],
   "source": [
    "Model = LogisticRegression(C=10, max_iter=500, random_state=42)\n",
    "Model.fit(Train_X, Train_y)\n",
    "print(classification_report(Val_y, Model.predict(Val_X)))"
   ]
  },
  {
   "cell_type": "code",
   "execution_count": 61,
   "metadata": {},
   "outputs": [],
   "source": [
    "preds = Model.predict(X_test)\n",
    "submission['first_party_winner'] = preds\n",
    "submission.to_csv('Logi_new.csv',index=False)"
   ]
  },
  {
   "cell_type": "code",
   "execution_count": 21,
   "metadata": {},
   "outputs": [
    {
     "name": "stdout",
     "output_type": "stream",
     "text": [
      "              precision    recall  f1-score   support\n",
      "\n",
      "           0       0.79      0.82      0.80       424\n",
      "           1       0.81      0.77      0.79       413\n",
      "\n",
      "    accuracy                           0.80       837\n",
      "   macro avg       0.80      0.80      0.80       837\n",
      "weighted avg       0.80      0.80      0.80       837\n",
      "\n"
     ]
    }
   ],
   "source": [
    "Logistic = LogisticRegression(max_iter=500, random_state=42)\n",
    "Logistic.fit(Train_X, Train_y)\n",
    "print(classification_report(Val_y, Logistic.predict(Val_X)))"
   ]
  },
  {
   "cell_type": "code",
   "execution_count": 24,
   "metadata": {},
   "outputs": [],
   "source": [
    "preds = Logistic.predict(X_test)"
   ]
  },
  {
   "cell_type": "code",
   "execution_count": 27,
   "metadata": {},
   "outputs": [
    {
     "data": {
      "text/html": [
       "<div>\n",
       "<style scoped>\n",
       "    .dataframe tbody tr th:only-of-type {\n",
       "        vertical-align: middle;\n",
       "    }\n",
       "\n",
       "    .dataframe tbody tr th {\n",
       "        vertical-align: top;\n",
       "    }\n",
       "\n",
       "    .dataframe thead th {\n",
       "        text-align: right;\n",
       "    }\n",
       "</style>\n",
       "<table border=\"1\" class=\"dataframe\">\n",
       "  <thead>\n",
       "    <tr style=\"text-align: right;\">\n",
       "      <th></th>\n",
       "      <th>ID</th>\n",
       "      <th>first_party_winner</th>\n",
       "    </tr>\n",
       "  </thead>\n",
       "  <tbody>\n",
       "    <tr>\n",
       "      <th>0</th>\n",
       "      <td>TEST_0000</td>\n",
       "      <td>0</td>\n",
       "    </tr>\n",
       "    <tr>\n",
       "      <th>1</th>\n",
       "      <td>TEST_0001</td>\n",
       "      <td>1</td>\n",
       "    </tr>\n",
       "    <tr>\n",
       "      <th>2</th>\n",
       "      <td>TEST_0002</td>\n",
       "      <td>1</td>\n",
       "    </tr>\n",
       "    <tr>\n",
       "      <th>3</th>\n",
       "      <td>TEST_0003</td>\n",
       "      <td>1</td>\n",
       "    </tr>\n",
       "    <tr>\n",
       "      <th>4</th>\n",
       "      <td>TEST_0004</td>\n",
       "      <td>1</td>\n",
       "    </tr>\n",
       "    <tr>\n",
       "      <th>...</th>\n",
       "      <td>...</td>\n",
       "      <td>...</td>\n",
       "    </tr>\n",
       "    <tr>\n",
       "      <th>1235</th>\n",
       "      <td>TEST_1235</td>\n",
       "      <td>0</td>\n",
       "    </tr>\n",
       "    <tr>\n",
       "      <th>1236</th>\n",
       "      <td>TEST_1236</td>\n",
       "      <td>1</td>\n",
       "    </tr>\n",
       "    <tr>\n",
       "      <th>1237</th>\n",
       "      <td>TEST_1237</td>\n",
       "      <td>1</td>\n",
       "    </tr>\n",
       "    <tr>\n",
       "      <th>1238</th>\n",
       "      <td>TEST_1238</td>\n",
       "      <td>1</td>\n",
       "    </tr>\n",
       "    <tr>\n",
       "      <th>1239</th>\n",
       "      <td>TEST_1239</td>\n",
       "      <td>1</td>\n",
       "    </tr>\n",
       "  </tbody>\n",
       "</table>\n",
       "<p>1240 rows × 2 columns</p>\n",
       "</div>"
      ],
      "text/plain": [
       "             ID  first_party_winner\n",
       "0     TEST_0000                   0\n",
       "1     TEST_0001                   1\n",
       "2     TEST_0002                   1\n",
       "3     TEST_0003                   1\n",
       "4     TEST_0004                   1\n",
       "...         ...                 ...\n",
       "1235  TEST_1235                   0\n",
       "1236  TEST_1236                   1\n",
       "1237  TEST_1237                   1\n",
       "1238  TEST_1238                   1\n",
       "1239  TEST_1239                   1\n",
       "\n",
       "[1240 rows x 2 columns]"
      ]
     },
     "execution_count": 27,
     "metadata": {},
     "output_type": "execute_result"
    }
   ],
   "source": [
    "submission['first_party_winner'] = preds\n",
    "submission"
   ]
  },
  {
   "cell_type": "code",
   "execution_count": 28,
   "metadata": {},
   "outputs": [],
   "source": [
    "submission.to_csv('Over_Logi.csv', index=False)"
   ]
  },
  {
   "cell_type": "code",
   "execution_count": 30,
   "metadata": {},
   "outputs": [
    {
     "name": "stdout",
     "output_type": "stream",
     "text": [
      "              precision    recall  f1-score   support\n",
      "\n",
      "           0       1.00      1.00      1.00       424\n",
      "           1       1.00      1.00      1.00       413\n",
      "\n",
      "    accuracy                           1.00       837\n",
      "   macro avg       1.00      1.00      1.00       837\n",
      "weighted avg       1.00      1.00      1.00       837\n",
      "\n"
     ]
    }
   ],
   "source": [
    "from sklearn.linear_model import LinearRegression\n",
    "ela = LinearRegression()\n",
    "ela.fit(X_train, y_train)\n",
    "print(classification_report(Val_y, np.where(ela.predict(Val_X)>.5, 1, 0)))"
   ]
  },
  {
   "cell_type": "code",
   "execution_count": 34,
   "metadata": {},
   "outputs": [],
   "source": [
    "preds = np.where(ela.predict(X_test)>.5,1,0)"
   ]
  },
  {
   "cell_type": "code",
   "execution_count": 36,
   "metadata": {},
   "outputs": [],
   "source": [
    "submission['first_party_winner'] = preds\n",
    "submission.to_csv('linear_over.csv',index=False)"
   ]
  }
 ],
 "metadata": {
  "kernelspec": {
   "display_name": "jhs_crime",
   "language": "python",
   "name": "python3"
  },
  "language_info": {
   "codemirror_mode": {
    "name": "ipython",
    "version": 3
   },
   "file_extension": ".py",
   "mimetype": "text/x-python",
   "name": "python",
   "nbconvert_exporter": "python",
   "pygments_lexer": "ipython3",
   "version": "3.10.11"
  },
  "orig_nbformat": 4
 },
 "nbformat": 4,
 "nbformat_minor": 2
}
