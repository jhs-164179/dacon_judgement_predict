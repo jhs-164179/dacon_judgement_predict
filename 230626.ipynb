{
 "cells": [
  {
   "cell_type": "code",
   "execution_count": 213,
   "metadata": {},
   "outputs": [],
   "source": [
    "import pandas as pd\n",
    "import numpy as np\n",
    "import seaborn as sns\n",
    "import gc\n",
    "import matplotlib.pyplot as plt\n",
    "from utils import print_score\n",
    "from imblearn.over_sampling import ADASYN\n",
    "from sklearn.preprocessing import LabelBinarizer\n",
    "from sklearn.linear_model import Ridge\n",
    "from sklearn.model_selection import train_test_split, cross_val_score\n",
    "from sklearn.feature_extraction.text import CountVectorizer, TfidfVectorizer\n",
    "from scipy.sparse import hstack\n",
    "\n",
    "from lightgbm import LGBMClassifier, LGBMRegressor\n",
    "from xgboost import XGBClassifier, XGBRegressor\n",
    "from catboost import CatBoostClassifier, CatBoostRegressor"
   ]
  },
  {
   "cell_type": "code",
   "execution_count": 147,
   "metadata": {},
   "outputs": [],
   "source": [
    "train = pd.read_csv('train.csv').drop('ID', axis=1)\n",
    "test = pd.read_csv('test.csv').drop('ID', axis=1)\n",
    "submission = pd.read_csv('sample_submission.csv')"
   ]
  },
  {
   "cell_type": "code",
   "execution_count": 148,
   "metadata": {},
   "outputs": [
    {
     "name": "stdout",
     "output_type": "stream",
     "text": [
      "<class 'pandas.core.frame.DataFrame'>\n",
      "RangeIndex: 2478 entries, 0 to 2477\n",
      "Data columns (total 4 columns):\n",
      " #   Column              Non-Null Count  Dtype \n",
      "---  ------              --------------  ----- \n",
      " 0   first_party         2478 non-null   object\n",
      " 1   second_party        2478 non-null   object\n",
      " 2   facts               2478 non-null   object\n",
      " 3   first_party_winner  2478 non-null   int64 \n",
      "dtypes: int64(1), object(3)\n",
      "memory usage: 77.6+ KB\n"
     ]
    }
   ],
   "source": [
    "train.info()"
   ]
  },
  {
   "cell_type": "code",
   "execution_count": 149,
   "metadata": {},
   "outputs": [
    {
     "name": "stdout",
     "output_type": "stream",
     "text": [
      "first_party의 종류 개수 :  2110\n",
      "first_party sample 7건 : \n",
      " 0              Phil A. St. Amant\n",
      "1                 Stephen Duncan\n",
      "2              Billy Joe Magwood\n",
      "3                     Linkletter\n",
      "4             William Earl Fikes\n",
      "5    C & A Carbone, Inc., et al.\n",
      "6         David Jennings, et al.\n",
      "Name: first_party, dtype: object\n"
     ]
    }
   ],
   "source": [
    "print('first_party의 종류 개수 : ',train['first_party'].nunique())\n",
    "print('first_party sample 7건 : \\n', train['first_party'][:7])"
   ]
  },
  {
   "cell_type": "code",
   "execution_count": 150,
   "metadata": {},
   "outputs": [
    {
     "name": "stdout",
     "output_type": "stream",
     "text": [
      "second_party의 종류 개수 :  1974\n",
      "second_party sample 7건 : \n",
      " 0                Herman A. Thompson\n",
      "1                    Lawrence Owens\n",
      "2    Tony Patterson, Warden, et al.\n",
      "3                            Walker\n",
      "4                           Alabama\n",
      "5                Town of Clarkstown\n",
      "6       Alejandro Rodriguez, et al.\n",
      "Name: second_party, dtype: object\n"
     ]
    }
   ],
   "source": [
    "print('second_party의 종류 개수 : ',train['second_party'].nunique())\n",
    "print('second_party sample 7건 : \\n', train['second_party'][:7])"
   ]
  },
  {
   "cell_type": "code",
   "execution_count": 151,
   "metadata": {},
   "outputs": [
    {
     "name": "stdout",
     "output_type": "stream",
     "text": [
      "facts 평균 문자열 크기 :  1109.0564971751412\n"
     ]
    },
    {
     "data": {
      "text/plain": [
       "0    On June 27, 1962, Phil St. Amant, a candidate for public office, made a television speech in Baton Rouge, Louisiana.  During this speech, St. Amant accused his political opponent of being a Commun...\n",
       "1    Ramon Nelson was riding his bike when he suffered a lethal blow to the back of his head with a baseball bat. After two eyewitnesses identified Lawrence Owens from an array of photos and then a lin...\n",
       "Name: facts, dtype: object"
      ]
     },
     "execution_count": 151,
     "metadata": {},
     "output_type": "execute_result"
    }
   ],
   "source": [
    "pd.set_option('max_colwidth',200)\n",
    "print('facts 평균 문자열 크기 : ', train['facts'].str.len().mean())\n",
    "\n",
    "train['facts'][:2]"
   ]
  },
  {
   "cell_type": "code",
   "execution_count": 152,
   "metadata": {},
   "outputs": [],
   "source": [
    "# train, test 문자열 데이터의 좌우 공백 제거하기\n",
    "for col in train.columns[:-1]:\n",
    "    train[col] = train[col].str.strip()\n",
    "for col in test.columns:\n",
    "    test[col] = test[col].str.strip()\n",
    "\n",
    "\n",
    "# 1) et al. , inc. 포함 여부로 회사, 단체 여부 확인\n",
    "\n",
    "# train_first\n",
    "lst_many = []\n",
    "lst_company = []\n",
    "\n",
    "for first in train['first_party']:\n",
    "    if \"et al.\" in first:\n",
    "        lst_many.append(1)\n",
    "    else:\n",
    "        lst_many.append(0)\n",
    "\n",
    "    if \"Inc.\" in first:\n",
    "        lst_company.append(1)\n",
    "    else:\n",
    "        lst_company.append(0)\n",
    "\n",
    "train['first_many'] = lst_many\n",
    "train['first_company'] = lst_company\n",
    "\n",
    "# test_first\n",
    "lst_many = []\n",
    "lst_company = []\n",
    "\n",
    "for first in test['first_party']:\n",
    "    if \"et al.\" in first:\n",
    "        lst_many.append(1)\n",
    "    else:\n",
    "        lst_many.append(0)\n",
    "\n",
    "    if \"Inc.\" in first:\n",
    "        lst_company.append(1)\n",
    "    else:\n",
    "        lst_company.append(0)\n",
    "\n",
    "test['first_many'] = lst_many\n",
    "test['first_company'] = lst_company\n",
    "\n",
    "# train_second\n",
    "lst_many = []\n",
    "lst_company = []\n",
    "\n",
    "for second in train['second_party']:\n",
    "    if \"et al.\" in second:\n",
    "        lst_many.append(1)\n",
    "    else:\n",
    "        lst_many.append(0)\n",
    "\n",
    "    if \"Inc.\" in second:\n",
    "        lst_company.append(1)\n",
    "    else:\n",
    "        lst_company.append(0)\n",
    "\n",
    "train['second_many'] = lst_many\n",
    "train['second_company'] = lst_company\n",
    "\n",
    "# test_second\n",
    "lst_many = []\n",
    "lst_company = []\n",
    "\n",
    "for second in test['second_party']:\n",
    "    if \"et al.\" in second:\n",
    "        lst_many.append(1)\n",
    "    else:\n",
    "        lst_many.append(0)\n",
    "\n",
    "    if \"Inc.\" in second:\n",
    "        lst_company.append(1)\n",
    "    else:\n",
    "        lst_company.append(0)\n",
    "\n",
    "test['second_many'] = lst_many\n",
    "test['second_company'] = lst_company"
   ]
  },
  {
   "cell_type": "code",
   "execution_count": 155,
   "metadata": {},
   "outputs": [],
   "source": [
    "lb_first_many = LabelBinarizer(sparse_output=True)\n",
    "train_first_many = lb_first_many.fit_transform(train['first_many'])\n",
    "test_first_many = lb_first_many.transform(test['first_many'])\n",
    "\n",
    "lb_first_company = LabelBinarizer(sparse_output=True)\n",
    "train_first_company = lb_first_company.fit_transform(train['first_company'])\n",
    "test_first_company = lb_first_company.transform(test['first_company'])\n",
    "\n",
    "lb_second_many = LabelBinarizer(sparse_output=True)\n",
    "train_second_many = lb_second_many.fit_transform(train['second_many'])\n",
    "test_second_many = lb_second_many.transform(test['second_many'])\n",
    "\n",
    "lb_second_company = LabelBinarizer(sparse_output=True)\n",
    "train_second_company = lb_second_company.fit_transform(train['second_company'])\n",
    "test_second_company = lb_second_company.transform(test['second_company'])"
   ]
  },
  {
   "cell_type": "code",
   "execution_count": 163,
   "metadata": {},
   "outputs": [
    {
     "name": "stdout",
     "output_type": "stream",
     "text": [
      "<train\n",
      "lb first shape :  (2478, 1) (2478, 1)\n",
      "lb second shape :  (2478, 1) (2478, 1)\n",
      "==================================================\n",
      "<test>\n",
      "lb first shape :  (1240, 1) (1240, 1)\n",
      "lb second shape :  (1240, 1) (1240, 1)\n"
     ]
    }
   ],
   "source": [
    "print('<train')\n",
    "print('lb first shape : ', train_first_many.shape, train_first_company.shape)\n",
    "print('lb second shape : ', train_second_many.shape, train_second_company.shape)\n",
    "print('='*50)\n",
    "print('<test>')\n",
    "print('lb first shape : ', test_first_many.shape, test_first_company.shape)\n",
    "print('lb second shape : ', test_second_many.shape, test_second_company.shape)"
   ]
  },
  {
   "cell_type": "code",
   "execution_count": 160,
   "metadata": {},
   "outputs": [],
   "source": [
    "# first_party, second_party 피처 벡터화 변환\n",
    "cnt_vec = CountVectorizer()\n",
    "X_name = cnt_vec.fit_transform(train.first_party)\n",
    "test_1 = cnt_vec.transform(test.first_party)\n",
    "\n",
    "cnt_vec2 = CountVectorizer()\n",
    "X_name2 = cnt_vec2.fit_transform(train.second_party)\n",
    "X_name2.resize(2478,2937)\n",
    "test_2 = cnt_vec.transform(test.second_party)\n",
    "\n",
    "# facts 피처 벡터화 변환\n",
    "tfidf_descp = TfidfVectorizer(max_features=50000, ngram_range=(1,3), stop_words='english')\n",
    "X_descp = tfidf_descp.fit_transform(train.facts)\n",
    "test_descp = tfidf_descp.transform(test.facts)"
   ]
  },
  {
   "cell_type": "code",
   "execution_count": 161,
   "metadata": {},
   "outputs": [
    {
     "name": "stdout",
     "output_type": "stream",
     "text": [
      "<train>\n",
      "first_party shape :  (2478, 2937)\n",
      "second_party shape :  (2478, 2937)\n",
      "facts shape :  (2478, 50000)\n",
      "==================================================\n",
      "<test>\n",
      "first_party shape :  (1240, 2937)\n",
      "second_party shape :  (1240, 2937)\n",
      "facts shape :  (1240, 50000)\n"
     ]
    }
   ],
   "source": [
    "print('<train>')\n",
    "print('first_party shape : ', X_name.shape)\n",
    "print('second_party shape : ', X_name2.shape)\n",
    "print('facts shape : ', X_descp.shape)\n",
    "print('='*50)\n",
    "print('<test>')\n",
    "print('first_party shape : ', test_1.shape)\n",
    "print('second_party shape : ', test_2.shape)\n",
    "print('facts shape : ', test_descp.shape)"
   ]
  },
  {
   "cell_type": "code",
   "execution_count": 164,
   "metadata": {},
   "outputs": [],
   "source": [
    "train_lst = (X_name, X_name2, X_descp, train_first_many, train_first_company, train_second_many, train_second_company)\n",
    "test_lst = (test_1, test_2, test_descp, test_first_many, test_first_company, test_second_many, test_second_company)\n",
    "\n",
    "train_sparse = hstack(train_lst).tocsr()\n",
    "test_sparse = hstack(test_lst).tocsr()"
   ]
  },
  {
   "cell_type": "code",
   "execution_count": 165,
   "metadata": {},
   "outputs": [
    {
     "data": {
      "text/plain": [
       "<2478x55878 sparse matrix of type '<class 'numpy.float64'>'\n",
       "\twith 309572 stored elements in Compressed Sparse Row format>"
      ]
     },
     "execution_count": 165,
     "metadata": {},
     "output_type": "execute_result"
    }
   ],
   "source": [
    "train_sparse"
   ]
  },
  {
   "cell_type": "code",
   "execution_count": 166,
   "metadata": {},
   "outputs": [
    {
     "data": {
      "text/plain": [
       "<1240x55878 sparse matrix of type '<class 'numpy.float64'>'\n",
       "\twith 128110 stored elements in Compressed Sparse Row format>"
      ]
     },
     "execution_count": 166,
     "metadata": {},
     "output_type": "execute_result"
    }
   ],
   "source": [
    "test_sparse"
   ]
  },
  {
   "cell_type": "code",
   "execution_count": 198,
   "metadata": {},
   "outputs": [],
   "source": [
    "ada = ADASYN(random_state=42)\n",
    "x_res, y_res = ada.fit_resample(train_sparse, train['first_party_winner'])"
   ]
  },
  {
   "cell_type": "code",
   "execution_count": 203,
   "metadata": {},
   "outputs": [
    {
     "data": {
      "text/plain": [
       "1    1649\n",
       "0    1628\n",
       "Name: first_party_winner, dtype: int64"
      ]
     },
     "execution_count": 203,
     "metadata": {},
     "output_type": "execute_result"
    }
   ],
   "source": [
    "y_res.value_counts()"
   ]
  },
  {
   "cell_type": "code",
   "execution_count": 204,
   "metadata": {},
   "outputs": [],
   "source": [
    "X_train, X_val, Y_train, Y_val = train_test_split(x_res, y_res, test_size=.2, random_state=42, stratify=y_res)\n",
    "X_test = test_sparse"
   ]
  },
  {
   "cell_type": "code",
   "execution_count": 205,
   "metadata": {},
   "outputs": [
    {
     "name": "stdout",
     "output_type": "stream",
     "text": [
      "Ridge\n",
      "<Accuracy Score>\n",
      "0.7088414634146342\n",
      "<F1-Score>\n",
      "0.6508226691042048\n",
      "<Roc-Auc Score>\n",
      "0.7098810187767244\n",
      "\n"
     ]
    }
   ],
   "source": [
    "linear_model = Ridge(solver='lsqr', fit_intercept=False)\n",
    "\n",
    "linear_model.fit(X_train, Y_train)\n",
    "preds = linear_model.predict(X_val)\n",
    "preds = np.where(preds>.5, 1, 0)\n",
    "print('Ridge')\n",
    "print_score(Y_val, preds)"
   ]
  },
  {
   "cell_type": "code",
   "execution_count": 206,
   "metadata": {},
   "outputs": [
    {
     "name": "stdout",
     "output_type": "stream",
     "text": [
      "[[287  39]\n",
      " [152 178]]\n"
     ]
    }
   ],
   "source": [
    "print(confusion_matrix(Y_val, preds))"
   ]
  },
  {
   "cell_type": "code",
   "execution_count": 207,
   "metadata": {},
   "outputs": [
    {
     "name": "stdout",
     "output_type": "stream",
     "text": [
      "              precision    recall  f1-score   support\n",
      "\n",
      "           0       0.65      0.88      0.75       326\n",
      "           1       0.82      0.54      0.65       330\n",
      "\n",
      "    accuracy                           0.71       656\n",
      "   macro avg       0.74      0.71      0.70       656\n",
      "weighted avg       0.74      0.71      0.70       656\n",
      "\n"
     ]
    }
   ],
   "source": [
    "print(classification_report(Y_val, preds))"
   ]
  },
  {
   "cell_type": "code",
   "execution_count": 212,
   "metadata": {},
   "outputs": [
    {
     "name": "stderr",
     "output_type": "stream",
     "text": [
      "c:\\jhs_pr\\jhs_tf\\lib\\site-packages\\lightgbm\\sklearn.py:726: UserWarning: 'early_stopping_rounds' argument is deprecated and will be removed in a future release of LightGBM. Pass 'early_stopping()' callback via 'callbacks' argument instead.\n",
      "  _log_warning(\"'early_stopping_rounds' argument is deprecated and will be removed in a future release of LightGBM. \"\n",
      "c:\\jhs_pr\\jhs_tf\\lib\\site-packages\\lightgbm\\sklearn.py:736: UserWarning: 'verbose' argument is deprecated and will be removed in a future release of LightGBM. Pass 'log_evaluation()' callback via 'callbacks' argument instead.\n",
      "  _log_warning(\"'verbose' argument is deprecated and will be removed in a future release of LightGBM. \"\n"
     ]
    },
    {
     "name": "stdout",
     "output_type": "stream",
     "text": [
      "[100]\ttraining's binary_logloss: 0.432169\tvalid_1's binary_logloss: 0.582493\n",
      "[200]\ttraining's binary_logloss: 0.285628\tvalid_1's binary_logloss: 0.519648\n",
      "[300]\ttraining's binary_logloss: 0.192167\tvalid_1's binary_logloss: 0.491661\n",
      "[400]\ttraining's binary_logloss: 0.130604\tvalid_1's binary_logloss: 0.476802\n",
      "[500]\ttraining's binary_logloss: 0.0901774\tvalid_1's binary_logloss: 0.472626\n",
      "[600]\ttraining's binary_logloss: 0.0628518\tvalid_1's binary_logloss: 0.471872\n",
      "[700]\ttraining's binary_logloss: 0.0441131\tvalid_1's binary_logloss: 0.47646\n",
      "LGBM\n",
      "<Accuracy Score>\n",
      "0.7804878048780488\n",
      "<F1-Score>\n",
      "0.791907514450867\n",
      "<Roc-Auc Score>\n",
      "0.7801821899981409\n",
      "\n"
     ]
    }
   ],
   "source": [
    "lgbm_model = LGBMClassifier(n_estimators=2000, learning_rate=.01, num_leaves=125, random_state=42,\n",
    "                            objective='binary', metric='binary')\n",
    "\n",
    "lgbm_model.fit(X_train, Y_train, eval_set=[(X_train, Y_train), (X_val, Y_val)], early_stopping_rounds=200, verbose=100)\n",
    "preds = lgbm_model.predict(X_val)\n",
    "\n",
    "print('LGBM')\n",
    "print_score(Y_val, preds)"
   ]
  },
  {
   "cell_type": "code",
   "execution_count": 216,
   "metadata": {},
   "outputs": [
    {
     "data": {
      "image/png": "[encoded data removed]",
      "text/plain": [
       "<Figure size 1000x600 with 1 Axes>"
      ]
     },
     "metadata": {},
     "output_type": "display_data"
    }
   ],
   "source": [
    "plt.figure(figsize=(10,6))\n",
    "plt.plot(lgbm_model.evals_result_['training']['binary_logloss'])\n",
    "plt.plot(lgbm_model.evals_result_['valid_1']['binary_logloss'])\n",
    "plt.legend(['Train','Val'])\n",
    "plt.xlabel('estimators')\n",
    "plt.ylabel('logloss')\n",
    "# plt.yticks(np.arange(4,6.4,step=.5))\n",
    "# plt.xticks(np.arange(0,1000,step=50))\n",
    "plt.grid()"
   ]
  },
  {
   "cell_type": "code",
   "execution_count": 211,
   "metadata": {},
   "outputs": [
    {
     "name": "stdout",
     "output_type": "stream",
     "text": [
      "              precision    recall  f1-score   support\n",
      "\n",
      "           0       0.81      0.73      0.77       326\n",
      "           1       0.76      0.83      0.79       330\n",
      "\n",
      "    accuracy                           0.78       656\n",
      "   macro avg       0.78      0.78      0.78       656\n",
      "weighted avg       0.78      0.78      0.78       656\n",
      "\n",
      "[[238  88]\n",
      " [ 56 274]]\n"
     ]
    }
   ],
   "source": [
    "from sklearn.metrics import classification_report, confusion_matrix\n",
    "print(classification_report(Y_val, preds))\n",
    "print(confusion_matrix(Y_val, preds))"
   ]
  },
  {
   "cell_type": "code",
   "execution_count": 219,
   "metadata": {},
   "outputs": [],
   "source": [
    "submission['first_party_winner'] = lgbm_model.predict(X_test)\n",
    "submission.to_csv('./lgbm_over.csv', index=False)"
   ]
  },
  {
   "cell_type": "code",
   "execution_count": 217,
   "metadata": {},
   "outputs": [
    {
     "name": "stdout",
     "output_type": "stream",
     "text": [
      "[15:20:26] WARNING: C:\\buildkite-agent\\builds\\buildkite-windows-cpu-autoscaling-group-i-07593ffd91cd9da33-1\\xgboost\\xgboost-ci-windows\\src\\learner.cc:767: \n",
      "Parameters: { \"num_leaves\" } are not used.\n",
      "\n",
      "[0]\tvalidation_0-auc:0.70234\tvalidation_1-auc:0.67358\n"
     ]
    },
    {
     "name": "stderr",
     "output_type": "stream",
     "text": [
      "c:\\jhs_pr\\jhs_tf\\lib\\site-packages\\xgboost\\sklearn.py:835: UserWarning: `early_stopping_rounds` in `fit` method is deprecated for better compatibility with scikit-learn, use `early_stopping_rounds` in constructor or`set_params` instead.\n",
      "  warnings.warn(\n"
     ]
    },
    {
     "name": "stdout",
     "output_type": "stream",
     "text": [
      "[100]\tvalidation_0-auc:1.00000\tvalidation_1-auc:0.80982\n",
      "[200]\tvalidation_0-auc:1.00000\tvalidation_1-auc:0.81135\n",
      "[300]\tvalidation_0-auc:1.00000\tvalidation_1-auc:0.80622\n",
      "[400]\tvalidation_0-auc:1.00000\tvalidation_1-auc:0.80344\n",
      "[500]\tvalidation_0-auc:1.00000\tvalidation_1-auc:0.80569\n",
      "[600]\tvalidation_0-auc:1.00000\tvalidation_1-auc:0.80500\n",
      "[700]\tvalidation_0-auc:1.00000\tvalidation_1-auc:0.80323\n",
      "[800]\tvalidation_0-auc:1.00000\tvalidation_1-auc:0.80292\n",
      "[900]\tvalidation_0-auc:1.00000\tvalidation_1-auc:0.80265\n",
      "[1000]\tvalidation_0-auc:1.00000\tvalidation_1-auc:0.80235\n",
      "[1100]\tvalidation_0-auc:1.00000\tvalidation_1-auc:0.80146\n",
      "[1162]\tvalidation_0-auc:1.00000\tvalidation_1-auc:0.80168\n",
      "XGB\n",
      "<Accuracy Score>\n",
      "0.7347560975609756\n",
      "<F1-Score>\n",
      "0.7418397626112759\n",
      "<Roc-Auc Score>\n",
      "0.7346160996467744\n",
      "\n"
     ]
    }
   ],
   "source": [
    "XGB_model = XGBClassifier(n_estimators=2000, learning_rate=.5, num_leaves=125, random_state=42,\n",
    "                          objective='binary:logistic', eval_metric='auc')\n",
    "\n",
    "XGB_model.fit(X_train, Y_train, eval_set=[(X_train, Y_train), (X_val, Y_val)], early_stopping_rounds=1000, verbose=100)\n",
    "preds = XGB_model.predict(X_val)\n",
    "print('XGB')\n",
    "print_score(Y_val, preds)"
   ]
  },
  {
   "cell_type": "code",
   "execution_count": 218,
   "metadata": {},
   "outputs": [
    {
     "name": "stdout",
     "output_type": "stream",
     "text": [
      "              precision    recall  f1-score   support\n",
      "\n",
      "           0       0.74      0.71      0.73       326\n",
      "           1       0.73      0.76      0.74       330\n",
      "\n",
      "    accuracy                           0.73       656\n",
      "   macro avg       0.74      0.73      0.73       656\n",
      "weighted avg       0.74      0.73      0.73       656\n",
      "\n",
      "[[232  94]\n",
      " [ 80 250]]\n"
     ]
    }
   ],
   "source": [
    "from sklearn.metrics import classification_report, confusion_matrix\n",
    "print(classification_report(Y_val, preds))\n",
    "print(confusion_matrix(Y_val, preds))"
   ]
  }
 ],
 "metadata": {
  "kernelspec": {
   "display_name": "jhs_tf",
   "language": "python",
   "name": "python3"
  },
  "language_info": {
   "codemirror_mode": {
    "name": "ipython",
    "version": 3
   },
   "file_extension": ".py",
   "mimetype": "text/x-python",
   "name": "python",
   "nbconvert_exporter": "python",
   "pygments_lexer": "ipython3",
   "version": "3.10.10"
  },
  "orig_nbformat": 4
 },
 "nbformat": 4,
 "nbformat_minor": 2
}
