{
 "cells": [
  {
   "attachments": {},
   "cell_type": "markdown",
   "metadata": {},
   "source": [
    "# Import"
   ]
  },
  {
   "cell_type": "code",
   "execution_count": 1,
   "metadata": {},
   "outputs": [
    {
     "name": "stdout",
     "output_type": "stream",
     "text": [
      "showing info https://raw.githubusercontent.com/nltk/nltk_data/gh-pages/index.xml\n"
     ]
    },
    {
     "data": {
      "text/plain": [
       "True"
      ]
     },
     "execution_count": 1,
     "metadata": {},
     "output_type": "execute_result"
    }
   ],
   "source": [
    "import os\n",
    "import random\n",
    "import numpy as np\n",
    "import pandas as pd\n",
    "import re\n",
    "\n",
    "import nltk\n",
    "from nltk.tokenize import sent_tokenize, TreebankWordTokenizer\n",
    "from nltk.corpus import stopwords\n",
    "from nltk.stem import WordNetLemmatizer\n",
    "\n",
    "from imblearn.over_sampling import ADASYN\n",
    "from imblearn.under_sampling import NeighbourhoodCleaningRule\n",
    "\n",
    "from sklearn.feature_extraction.text import CountVectorizer, TfidfVectorizer\n",
    "from sklearn.metrics import accuracy_score, classification_report\n",
    "from sklearn.model_selection import train_test_split, cross_val_score, GridSearchCV, KFold\n",
    "from sklearn.linear_model import LinearRegression, LogisticRegression\n",
    "from sklearn.tree import DecisionTreeClassifier\n",
    "from sklearn.svm import SVC\n",
    "from sklearn.ensemble import VotingClassifier, BaggingClassifier\n",
    "\n",
    "from lightgbm import LGBMClassifier\n",
    "from catboost import CatBoostClassifier\n",
    "\n",
    "import tensorflow as tf\n",
    "from tensorflow import keras\n",
    "\n",
    "from utils_two import *\n",
    "\n",
    "nltk.download()"
   ]
  },
  {
   "cell_type": "code",
   "execution_count": 2,
   "metadata": {},
   "outputs": [],
   "source": [
    "# Fix Seed\n",
    "def seed_everything(seed):\n",
    "    random.seed(seed)\n",
    "    np.random.seed(seed)\n",
    "    os.environ['PYTHONHASHSEED'] = str(seed)\n",
    "    tf.random.set_seed(seed)\n",
    "\n",
    "seed_everything(42)"
   ]
  },
  {
   "attachments": {},
   "cell_type": "markdown",
   "metadata": {},
   "source": [
    "# Load Data"
   ]
  },
  {
   "cell_type": "code",
   "execution_count": 3,
   "metadata": {},
   "outputs": [],
   "source": [
    "# Load Data\n",
    "train = pd.read_csv('./data/train.csv').drop('ID', axis=1)\n",
    "test = pd.read_csv('./data/test.csv').drop('ID', axis=1)\n",
    "submission = pd.read_csv('./data/sample_submission.csv')"
   ]
  },
  {
   "attachments": {},
   "cell_type": "markdown",
   "metadata": {},
   "source": [
    "# Preprocessing"
   ]
  },
  {
   "cell_type": "code",
   "execution_count": 4,
   "metadata": {},
   "outputs": [],
   "source": [
    "# 문자열 전처리\n",
    "cols = ['first_party', 'second_party', 'facts']\n",
    "shortword = re.compile(r'\\W*\\b\\w{1}\\b')\n",
    "tokenizer = TreebankWordTokenizer()\n",
    "stopword = stopwords.words('english')\n",
    "lemmatizer = WordNetLemmatizer()\n",
    "\n",
    "first_train, second_train, facts_train = preprocessing(train, cols, shortword, tokenizer, stopword, lemmatizer)\n",
    "first_test, second_test, facts_test = preprocessing(test, cols, shortword, tokenizer, stopword, lemmatizer)\n",
    "\n",
    "vec = CountVectorizer(ngram_range=(1,2))\n",
    "vec_facts = TfidfVectorizer(ngram_range=(1,2))\n",
    "\n",
    "X_train = preprocessing_2(first_train, second_train, facts_train, vec, vec_facts)\n",
    "y_train = train['first_party_winner']\n",
    "X_test = preprocessing_2(first_test, second_test, facts_test, vec, vec_facts, train=False)"
   ]
  },
  {
   "attachments": {},
   "cell_type": "markdown",
   "metadata": {},
   "source": [
    "# Modeling"
   ]
  },
  {
   "cell_type": "code",
   "execution_count": 5,
   "metadata": {},
   "outputs": [
    {
     "name": "stdout",
     "output_type": "stream",
     "text": [
      "Train Data Shape\n",
      "(2478, 211292) (2478,)\n",
      "====================\n",
      "Train target\n",
      "first_party_winner\n",
      "1    1649\n",
      "0     829\n",
      "Name: count, dtype: int64\n",
      "====================\n",
      "Test Data Shape\n",
      "(1240, 211292)\n"
     ]
    }
   ],
   "source": [
    "print('Train Data Shape')\n",
    "print(X_train.shape, y_train.shape)\n",
    "print('='*20)\n",
    "print('Train target')\n",
    "print(y_train.value_counts())\n",
    "print('='*20)\n",
    "print('Test Data Shape')\n",
    "print(X_test.shape)"
   ]
  },
  {
   "cell_type": "code",
   "execution_count": 6,
   "metadata": {},
   "outputs": [
    {
     "name": "stdout",
     "output_type": "stream",
     "text": [
      "Train Data Shape after UnderSampling\n",
      "(1643, 211292) (1643,)\n",
      "====================\n",
      "Train target after UnderSampling\n",
      "first_party_winner\n",
      "0    829\n",
      "1    814\n",
      "Name: count, dtype: int64\n"
     ]
    }
   ],
   "source": [
    "# 데이터 불균형 문제 전처리(언더샘플링)\n",
    "X_nc, y_nc = NeighbourhoodCleaningRule(n_neighbors=3).fit_resample(X_train, y_train)\n",
    "print('Train Data Shape after UnderSampling')\n",
    "print(X_nc.shape, y_nc.shape)\n",
    "print('='*20)\n",
    "print('Train target after UnderSampling')\n",
    "print(y_nc.value_counts())"
   ]
  },
  {
   "cell_type": "code",
   "execution_count": 7,
   "metadata": {},
   "outputs": [
    {
     "name": "stdout",
     "output_type": "stream",
     "text": [
      "Train Data Shape\n",
      "(1232, 211292) (1232,)\n",
      "--------------------\n",
      "Train target\n",
      "first_party_winner\n",
      "0    622\n",
      "1    610\n",
      "Name: count, dtype: int64\n",
      "====================\n",
      "Validation Data Shape\n",
      "(411, 211292) (411,)\n",
      "--------------------\n",
      "Validation target\n",
      "first_party_winner\n",
      "0    207\n",
      "1    204\n",
      "Name: count, dtype: int64\n"
     ]
    }
   ],
   "source": [
    "# Train, Validation 분리\n",
    "Train_X, Val_X, Train_y, Val_y = train_test_split(X_nc, y_nc, test_size=.25, random_state=42, stratify=y_nc)\n",
    "print('Train Data Shape')\n",
    "print(Train_X.shape, Train_y.shape)\n",
    "print('-'*20)\n",
    "print('Train target')\n",
    "print(Train_y.value_counts())\n",
    "print('='*20)\n",
    "print('Validation Data Shape')\n",
    "print(Val_X.shape, Val_y.shape)\n",
    "print('-'*20)\n",
    "print('Validation target')\n",
    "print(Val_y.value_counts())"
   ]
  },
  {
   "cell_type": "code",
   "execution_count": 8,
   "metadata": {},
   "outputs": [
    {
     "name": "stdout",
     "output_type": "stream",
     "text": [
      "              precision    recall  f1-score   support\n",
      "\n",
      "           0       0.65      0.70      0.67       207\n",
      "           1       0.67      0.62      0.64       204\n",
      "\n",
      "    accuracy                           0.66       411\n",
      "   macro avg       0.66      0.66      0.66       411\n",
      "weighted avg       0.66      0.66      0.66       411\n",
      "\n"
     ]
    }
   ],
   "source": [
    "Linear = LinearRegression()\n",
    "Linear.fit(Train_X, Train_y)\n",
    "print(classification_report(Val_y, np.where(Linear.predict(Val_X)>.5, 1, 0)))"
   ]
  },
  {
   "cell_type": "code",
   "execution_count": 9,
   "metadata": {},
   "outputs": [
    {
     "name": "stdout",
     "output_type": "stream",
     "text": [
      "              precision    recall  f1-score   support\n",
      "\n",
      "           0       0.66      0.69      0.68       207\n",
      "           1       0.67      0.64      0.66       204\n",
      "\n",
      "    accuracy                           0.67       411\n",
      "   macro avg       0.67      0.67      0.67       411\n",
      "weighted avg       0.67      0.67      0.67       411\n",
      "\n"
     ]
    }
   ],
   "source": [
    "Logistic = LogisticRegression(max_iter=500, random_state=42)\n",
    "Logistic.fit(Train_X, Train_y)\n",
    "print(classification_report(Val_y, Logistic.predict(Val_X)))"
   ]
  },
  {
   "cell_type": "code",
   "execution_count": 10,
   "metadata": {},
   "outputs": [
    {
     "name": "stdout",
     "output_type": "stream",
     "text": [
      "              precision    recall  f1-score   support\n",
      "\n",
      "           0       0.60      0.53      0.56       207\n",
      "           1       0.57      0.64      0.61       204\n",
      "\n",
      "    accuracy                           0.59       411\n",
      "   macro avg       0.59      0.59      0.59       411\n",
      "weighted avg       0.59      0.59      0.59       411\n",
      "\n"
     ]
    }
   ],
   "source": [
    "Tree = DecisionTreeClassifier(criterion='entropy', random_state=42)\n",
    "Tree.fit(Train_X, Train_y)\n",
    "print(classification_report(Val_y, Tree.predict(Val_X)))"
   ]
  },
  {
   "cell_type": "code",
   "execution_count": 11,
   "metadata": {},
   "outputs": [
    {
     "name": "stderr",
     "output_type": "stream",
     "text": [
      "c:\\jhs\\project\\dacon_crime\\jhs_crime\\lib\\site-packages\\lightgbm\\sklearn.py:726: UserWarning: 'early_stopping_rounds' argument is deprecated and will be removed in a future release of LightGBM. Pass 'early_stopping()' callback via 'callbacks' argument instead.\n",
      "  _log_warning(\"'early_stopping_rounds' argument is deprecated and will be removed in a future release of LightGBM. \"\n",
      "c:\\jhs\\project\\dacon_crime\\jhs_crime\\lib\\site-packages\\lightgbm\\sklearn.py:736: UserWarning: 'verbose' argument is deprecated and will be removed in a future release of LightGBM. Pass 'log_evaluation()' callback via 'callbacks' argument instead.\n",
      "  _log_warning(\"'verbose' argument is deprecated and will be removed in a future release of LightGBM. \"\n"
     ]
    },
    {
     "name": "stdout",
     "output_type": "stream",
     "text": [
      "              precision    recall  f1-score   support\n",
      "\n",
      "           0       0.64      0.65      0.64       207\n",
      "           1       0.64      0.62      0.63       204\n",
      "\n",
      "    accuracy                           0.64       411\n",
      "   macro avg       0.64      0.64      0.64       411\n",
      "weighted avg       0.64      0.64      0.64       411\n",
      "\n"
     ]
    }
   ],
   "source": [
    "LGBM =LGBMClassifier(objective='binary', n_estimators=1000, learning_rate=.01, metric='binary_error', random_state=42)\n",
    "LGBM.fit(Train_X, Train_y, eval_metric='binary_error', eval_set=[(Train_X, Train_y), (Val_X, Val_y)], verbose=False, early_stopping_rounds=100)\n",
    "print(classification_report(Val_y, LGBM.predict(Val_X)))"
   ]
  },
  {
   "cell_type": "code",
   "execution_count": 12,
   "metadata": {},
   "outputs": [
    {
     "name": "stdout",
     "output_type": "stream",
     "text": [
      "              precision    recall  f1-score   support\n",
      "\n",
      "           0       0.59      0.60      0.60       207\n",
      "           1       0.59      0.57      0.58       204\n",
      "\n",
      "    accuracy                           0.59       411\n",
      "   macro avg       0.59      0.59      0.59       411\n",
      "weighted avg       0.59      0.59      0.59       411\n",
      "\n"
     ]
    }
   ],
   "source": [
    "CAT = CatBoostClassifier(iterations=500, objective='Logloss', eval_metric='Logloss', random_state=42, use_best_model=True)\n",
    "CAT.fit(Train_X, Train_y, eval_set=(Val_X, Val_y), early_stopping_rounds=100, verbose=False)\n",
    "print(classification_report(Val_y, CAT.predict(Val_X)))"
   ]
  },
  {
   "cell_type": "code",
   "execution_count": 25,
   "metadata": {},
   "outputs": [
    {
     "name": "stdout",
     "output_type": "stream",
     "text": [
      "              precision    recall  f1-score   support\n",
      "\n",
      "           0       0.66      0.71      0.68       207\n",
      "           1       0.68      0.63      0.65       204\n",
      "\n",
      "    accuracy                           0.67       411\n",
      "   macro avg       0.67      0.67      0.67       411\n",
      "weighted avg       0.67      0.67      0.67       411\n",
      "\n"
     ]
    }
   ],
   "source": [
    "Bag = BaggingClassifier(estimator=LogisticRegression(max_iter=500, random_state=42), random_state=42)\n",
    "Bag.fit(Train_X, Train_y)\n",
    "print(classification_report(Val_y, Bag.predict(Val_X)))"
   ]
  },
  {
   "cell_type": "code",
   "execution_count": 27,
   "metadata": {},
   "outputs": [
    {
     "data": {
      "text/plain": [
       "array([0, 0, 1, ..., 1, 1, 1], dtype=int64)"
      ]
     },
     "execution_count": 27,
     "metadata": {},
     "output_type": "execute_result"
    }
   ],
   "source": [
    "Bag.predict(X_test)"
   ]
  },
  {
   "cell_type": "code",
   "execution_count": 28,
   "metadata": {},
   "outputs": [],
   "source": [
    "submission['first_party_winner'] = Bag.predict(X_test)\n",
    "submission.to_csv('Bagging.csv', index=False)"
   ]
  },
  {
   "cell_type": "code",
   "execution_count": 24,
   "metadata": {},
   "outputs": [
    {
     "name": "stdout",
     "output_type": "stream",
     "text": [
      "              precision    recall  f1-score   support\n",
      "\n",
      "           0       0.66      0.71      0.68       207\n",
      "           1       0.68      0.63      0.65       204\n",
      "\n",
      "    accuracy                           0.67       411\n",
      "   macro avg       0.67      0.67      0.67       411\n",
      "weighted avg       0.67      0.67      0.67       411\n",
      "\n"
     ]
    }
   ],
   "source": [
    "Bag = BaggingClassifier(estimator=LogisticRegression(max_iter=500, random_state=42), random_state=42,\n",
    "                        n_estimators=100)\n",
    "Bag.fit(Train_X, Train_y)\n",
    "print(classification_report(Val_y, Bag.predict(Val_X)))"
   ]
  },
  {
   "cell_type": "code",
   "execution_count": 52,
   "metadata": {},
   "outputs": [
    {
     "name": "stdout",
     "output_type": "stream",
     "text": [
      "              precision    recall  f1-score   support\n",
      "\n",
      "           0       0.66      0.65      0.66       207\n",
      "           1       0.65      0.66      0.66       204\n",
      "\n",
      "    accuracy                           0.66       411\n",
      "   macro avg       0.66      0.66      0.66       411\n",
      "weighted avg       0.66      0.66      0.66       411\n",
      "\n"
     ]
    }
   ],
   "source": [
    "Vot = VotingClassifier(estimators=[\n",
    "    ('Logistic', LogisticRegression(max_iter=500, random_state=42)),\n",
    "    ('LGBM', LGBMClassifier(objective='binary', n_estimators=23, learning_rate=.01, metric='binary_error', random_state=42))\n",
    "    # ('Tree', DecisionTreeClassifier(criterion='entropy', random_state=42)),\n",
    "    ])\n",
    "Vot.fit(Train_X, Train_y)\n",
    "print(classification_report(Val_y, Vot.predict(Val_X)))"
   ]
  },
  {
   "cell_type": "code",
   "execution_count": 23,
   "metadata": {},
   "outputs": [],
   "source": [
    "submission['first_party_winner'] = LGBM.predict(X_test)\n",
    "submission.to_csv('LGMBnew.csv', index=False)"
   ]
  },
  {
   "cell_type": "code",
   "execution_count": null,
   "metadata": {},
   "outputs": [],
   "source": [
    "submission['first_party_winner'] = Bag.predict(X_test)\n",
    "submission.to_csv('BAGGING.csv', index=False)"
   ]
  },
  {
   "cell_type": "code",
   "execution_count": 21,
   "metadata": {},
   "outputs": [
    {
     "ename": "ResourceExhaustedError",
     "evalue": "OOM when allocating tensor with shape[211292,512] and type float on /job:localhost/replica:0/task:0/device:GPU:0 by allocator GPU_0_bfc [Op:RandomUniform]",
     "output_type": "error",
     "traceback": [
      "\u001b[1;31m---------------------------------------------------------------------------\u001b[0m",
      "\u001b[1;31mResourceExhaustedError\u001b[0m                    Traceback (most recent call last)",
      "Cell \u001b[1;32mIn[21], line 7\u001b[0m\n\u001b[0;32m      4\u001b[0m units \u001b[39m=\u001b[39m \u001b[39m512\u001b[39m\n\u001b[0;32m      5\u001b[0m epoch \u001b[39m=\u001b[39m \u001b[39m50\u001b[39m\n\u001b[1;32m----> 7\u001b[0m model \u001b[39m=\u001b[39m keras\u001b[39m.\u001b[39;49mmodels\u001b[39m.\u001b[39;49mSequential([\n\u001b[0;32m      8\u001b[0m         keras\u001b[39m.\u001b[39;49mlayers\u001b[39m.\u001b[39;49mDense(units, input_shape\u001b[39m=\u001b[39;49m(input_dim,), activation\u001b[39m=\u001b[39;49m\u001b[39m'\u001b[39;49m\u001b[39mrelu\u001b[39;49m\u001b[39m'\u001b[39;49m),\n\u001b[0;32m      9\u001b[0m         keras\u001b[39m.\u001b[39;49mlayers\u001b[39m.\u001b[39;49mDense(\u001b[39m256\u001b[39;49m, activation\u001b[39m=\u001b[39;49m\u001b[39m'\u001b[39;49m\u001b[39mrelu\u001b[39;49m\u001b[39m'\u001b[39;49m),\n\u001b[0;32m     10\u001b[0m         keras\u001b[39m.\u001b[39;49mlayers\u001b[39m.\u001b[39;49mDropout(\u001b[39m.5\u001b[39;49m),\n\u001b[0;32m     11\u001b[0m         keras\u001b[39m.\u001b[39;49mlayers\u001b[39m.\u001b[39;49mDense(\u001b[39m1\u001b[39;49m, activation\u001b[39m=\u001b[39;49m\u001b[39m'\u001b[39;49m\u001b[39msigmoid\u001b[39;49m\u001b[39m'\u001b[39;49m)\n\u001b[0;32m     12\u001b[0m ])\n\u001b[0;32m     14\u001b[0m es \u001b[39m=\u001b[39m keras\u001b[39m.\u001b[39mcallbacks\u001b[39m.\u001b[39mEarlyStopping(monitor\u001b[39m=\u001b[39m\u001b[39m'\u001b[39m\u001b[39mval_acc\u001b[39m\u001b[39m'\u001b[39m, patience\u001b[39m=\u001b[39m\u001b[39m10\u001b[39m, verbose\u001b[39m=\u001b[39m\u001b[39m1\u001b[39m, mode\u001b[39m=\u001b[39m\u001b[39m'\u001b[39m\u001b[39mmax\u001b[39m\u001b[39m'\u001b[39m, restore_best_weights\u001b[39m=\u001b[39m\u001b[39mTrue\u001b[39;00m)\n\u001b[0;32m     15\u001b[0m mc \u001b[39m=\u001b[39m keras\u001b[39m.\u001b[39mcallbacks\u001b[39m.\u001b[39mModelCheckpoint(\u001b[39mf\u001b[39m\u001b[39m\"\u001b[39m\u001b[39m./model/LSTM.h5\u001b[39m\u001b[39m\"\u001b[39m, save_best_only\u001b[39m=\u001b[39m\u001b[39mTrue\u001b[39;00m)\n",
      "File \u001b[1;32mc:\\jhs\\project\\dacon_crime\\jhs_crime\\lib\\site-packages\\tensorflow\\python\\training\\tracking\\base.py:629\u001b[0m, in \u001b[0;36mno_automatic_dependency_tracking.<locals>._method_wrapper\u001b[1;34m(self, *args, **kwargs)\u001b[0m\n\u001b[0;32m    627\u001b[0m \u001b[39mself\u001b[39m\u001b[39m.\u001b[39m_self_setattr_tracking \u001b[39m=\u001b[39m \u001b[39mFalse\u001b[39;00m  \u001b[39m# pylint: disable=protected-access\u001b[39;00m\n\u001b[0;32m    628\u001b[0m \u001b[39mtry\u001b[39;00m:\n\u001b[1;32m--> 629\u001b[0m   result \u001b[39m=\u001b[39m method(\u001b[39mself\u001b[39m, \u001b[39m*\u001b[39margs, \u001b[39m*\u001b[39m\u001b[39m*\u001b[39mkwargs)\n\u001b[0;32m    630\u001b[0m \u001b[39mfinally\u001b[39;00m:\n\u001b[0;32m    631\u001b[0m   \u001b[39mself\u001b[39m\u001b[39m.\u001b[39m_self_setattr_tracking \u001b[39m=\u001b[39m previous_value  \u001b[39m# pylint: disable=protected-access\u001b[39;00m\n",
      "File \u001b[1;32mc:\\jhs\\project\\dacon_crime\\jhs_crime\\lib\\site-packages\\keras\\utils\\traceback_utils.py:67\u001b[0m, in \u001b[0;36mfilter_traceback.<locals>.error_handler\u001b[1;34m(*args, **kwargs)\u001b[0m\n\u001b[0;32m     65\u001b[0m \u001b[39mexcept\u001b[39;00m \u001b[39mException\u001b[39;00m \u001b[39mas\u001b[39;00m e:  \u001b[39m# pylint: disable=broad-except\u001b[39;00m\n\u001b[0;32m     66\u001b[0m   filtered_tb \u001b[39m=\u001b[39m _process_traceback_frames(e\u001b[39m.\u001b[39m__traceback__)\n\u001b[1;32m---> 67\u001b[0m   \u001b[39mraise\u001b[39;00m e\u001b[39m.\u001b[39mwith_traceback(filtered_tb) \u001b[39mfrom\u001b[39;00m \u001b[39mNone\u001b[39;00m\n\u001b[0;32m     68\u001b[0m \u001b[39mfinally\u001b[39;00m:\n\u001b[0;32m     69\u001b[0m   \u001b[39mdel\u001b[39;00m filtered_tb\n",
      "File \u001b[1;32mc:\\jhs\\project\\dacon_crime\\jhs_crime\\lib\\site-packages\\keras\\backend.py:1920\u001b[0m, in \u001b[0;36mRandomGenerator.random_uniform\u001b[1;34m(self, shape, minval, maxval, dtype)\u001b[0m\n\u001b[0;32m   1917\u001b[0m \u001b[39mif\u001b[39;00m \u001b[39mself\u001b[39m\u001b[39m.\u001b[39m_generator:\n\u001b[0;32m   1918\u001b[0m   \u001b[39mreturn\u001b[39;00m \u001b[39mself\u001b[39m\u001b[39m.\u001b[39m_generator\u001b[39m.\u001b[39muniform(\n\u001b[0;32m   1919\u001b[0m       shape\u001b[39m=\u001b[39mshape, minval\u001b[39m=\u001b[39mminval, maxval\u001b[39m=\u001b[39mmaxval, dtype\u001b[39m=\u001b[39mdtype)\n\u001b[1;32m-> 1920\u001b[0m \u001b[39mreturn\u001b[39;00m tf\u001b[39m.\u001b[39;49mrandom\u001b[39m.\u001b[39;49muniform(\n\u001b[0;32m   1921\u001b[0m     shape\u001b[39m=\u001b[39;49mshape, minval\u001b[39m=\u001b[39;49mminval, maxval\u001b[39m=\u001b[39;49mmaxval, dtype\u001b[39m=\u001b[39;49mdtype,\n\u001b[0;32m   1922\u001b[0m     seed\u001b[39m=\u001b[39;49m\u001b[39mself\u001b[39;49m\u001b[39m.\u001b[39;49mmake_legacy_seed())\n",
      "\u001b[1;31mResourceExhaustedError\u001b[0m: OOM when allocating tensor with shape[211292,512] and type float on /job:localhost/replica:0/task:0/device:GPU:0 by allocator GPU_0_bfc [Op:RandomUniform]"
     ]
    }
   ],
   "source": [
    "with tf.device('/device:GPU:0'):\n",
    "    batch_size = 8\n",
    "    input_dim = Train_X.shape[1]\n",
    "    units = 512\n",
    "    epoch = 50\n",
    "\n",
    "    model = keras.models.Sequential([\n",
    "            keras.layers.Dense(units, input_shape=(input_dim,), activation='relu'),\n",
    "            keras.layers.Dense(256, activation='relu'),\n",
    "            keras.layers.Dropout(.5),\n",
    "            keras.layers.Dense(1, activation='sigmoid')\n",
    "    ])\n",
    "\n",
    "    es = keras.callbacks.EarlyStopping(monitor='val_acc', patience=10, verbose=1, mode='max', restore_best_weights=True)\n",
    "    mc = keras.callbacks.ModelCheckpoint(f\"./model/LSTM.h5\", save_best_only=True)\n",
    "    rlr = keras.callbacks.ReduceLROnPlateau(monitor='val_acc', factor=.9, patience=5, verbose=1, mode='max', min_lr=.0005)\n",
    "    csv = keras.callbacks.CSVLogger(\"./model/LSTM.log\")\n",
    "\n",
    "    loss = keras.losses.BinaryCrossentropy()\n",
    "    optimizer = keras.optimizers.Adam(learning_rate=.0001)\n",
    "\n",
    "    model.summary()\n",
    "    model.compile(loss=loss, optimizer=optimizer, metrics=['acc'])\n",
    "\n",
    "    hist = model.fit(Train_X, Train_y, validation_data=(Val_X, Val_y), batch_size=batch_size, epochs=epoch, callbacks=[es, mc, rlr, csv])"
   ]
  },
  {
   "cell_type": "code",
   "execution_count": 14,
   "metadata": {},
   "outputs": [
    {
     "name": "stdout",
     "output_type": "stream",
     "text": [
      "Model: \"sequential\"\n",
      "_________________________________________________________________\n",
      " Layer (type)                Output Shape              Param #   \n",
      "=================================================================\n",
      " dense (Dense)               (None, 512)               108182016 \n",
      "                                                                 \n",
      " dense_1 (Dense)             (None, 256)               131328    \n",
      "                                                                 \n",
      " dropout (Dropout)           (None, 256)               0         \n",
      "                                                                 \n",
      " dense_2 (Dense)             (None, 1)                 257       \n",
      "                                                                 \n",
      "=================================================================\n",
      "Total params: 108,313,601\n",
      "Trainable params: 108,313,601\n",
      "Non-trainable params: 0\n",
      "_________________________________________________________________\n"
     ]
    }
   ],
   "source": [
    "batch_size = 64\n",
    "input_dim = Train_X.shape[1]\n",
    "units = 512\n",
    "epoch = 50\n",
    "\n",
    "model = keras.models.Sequential([\n",
    "        keras.layers.Dense(units, input_shape=(input_dim,), activation='relu'),\n",
    "        keras.layers.Dense(256, activation='relu'),\n",
    "        keras.layers.Dropout(.5),\n",
    "        keras.layers.Dense(1, activation='sigmoid')\n",
    "])\n",
    "\n",
    "es = keras.callbacks.EarlyStopping(monitor='val_acc', patience=10, verbose=1, mode='max', restore_best_weights=True)\n",
    "mc = keras.callbacks.ModelCheckpoint(f\"./model/LSTM.h5\", save_best_only=True)\n",
    "rlr = keras.callbacks.ReduceLROnPlateau(monitor='val_acc', factor=.9, patience=5, verbose=1, mode='max', min_lr=.0005)\n",
    "csv = keras.callbacks.CSVLogger(\"./model/LSTM.log\")\n",
    "\n",
    "loss = keras.losses.BinaryCrossentropy()\n",
    "optimizer = keras.optimizers.Adam(learning_rate=.0001)\n",
    "\n",
    "model.summary()\n",
    "model.compile(loss=loss, optimizer=optimizer, metrics=['acc'])"
   ]
  },
  {
   "cell_type": "code",
   "execution_count": 16,
   "metadata": {},
   "outputs": [
    {
     "data": {
      "text/plain": [
       "[name: \"/device:CPU:0\"\n",
       " device_type: \"CPU\"\n",
       " memory_limit: 268435456\n",
       " locality {\n",
       " }\n",
       " incarnation: 9916404986006309139\n",
       " xla_global_id: -1,\n",
       " name: \"/device:GPU:0\"\n",
       " device_type: \"GPU\"\n",
       " memory_limit: 1735917568\n",
       " locality {\n",
       "   bus_id: 1\n",
       "   links {\n",
       "   }\n",
       " }\n",
       " incarnation: 4793934418041206547\n",
       " physical_device_desc: \"device: 0, name: NVIDIA GeForce RTX 3050 Ti Laptop GPU, pci bus id: 0000:01:00.0, compute capability: 8.6\"\n",
       " xla_global_id: 416903419]"
      ]
     },
     "execution_count": 16,
     "metadata": {},
     "output_type": "execute_result"
    }
   ],
   "source": [
    "from tensorflow.python.client import device_lib\n",
    "device_lib.list_local_devices()"
   ]
  },
  {
   "cell_type": "code",
   "execution_count": 17,
   "metadata": {},
   "outputs": [],
   "source": [
    "os.environ['CUDA_ViSIBLE_DEVICES'] = \"0\""
   ]
  },
  {
   "cell_type": "code",
   "execution_count": 15,
   "metadata": {},
   "outputs": [
    {
     "ename": "InternalError",
     "evalue": "Failed copying input tensor from /job:localhost/replica:0/task:0/device:CPU:0 to /job:localhost/replica:0/task:0/device:GPU:0 in order to run _EagerConst: Dst tensor is not initialized.",
     "output_type": "error",
     "traceback": [
      "\u001b[1;31m---------------------------------------------------------------------------\u001b[0m",
      "\u001b[1;31mInternalError\u001b[0m                             Traceback (most recent call last)",
      "Cell \u001b[1;32mIn[15], line 1\u001b[0m\n\u001b[1;32m----> 1\u001b[0m hist \u001b[39m=\u001b[39m model\u001b[39m.\u001b[39;49mfit(Train_X, Train_y, validation_data\u001b[39m=\u001b[39;49m(Val_X, Val_y), batch_size\u001b[39m=\u001b[39;49mbatch_size, epochs\u001b[39m=\u001b[39;49mepoch, callbacks\u001b[39m=\u001b[39;49m[es, mc, rlr, csv])\n",
      "File \u001b[1;32mc:\\jhs\\project\\dacon_crime\\jhs_crime\\lib\\site-packages\\keras\\utils\\traceback_utils.py:67\u001b[0m, in \u001b[0;36mfilter_traceback.<locals>.error_handler\u001b[1;34m(*args, **kwargs)\u001b[0m\n\u001b[0;32m     65\u001b[0m \u001b[39mexcept\u001b[39;00m \u001b[39mException\u001b[39;00m \u001b[39mas\u001b[39;00m e:  \u001b[39m# pylint: disable=broad-except\u001b[39;00m\n\u001b[0;32m     66\u001b[0m   filtered_tb \u001b[39m=\u001b[39m _process_traceback_frames(e\u001b[39m.\u001b[39m__traceback__)\n\u001b[1;32m---> 67\u001b[0m   \u001b[39mraise\u001b[39;00m e\u001b[39m.\u001b[39mwith_traceback(filtered_tb) \u001b[39mfrom\u001b[39;00m \u001b[39mNone\u001b[39;00m\n\u001b[0;32m     68\u001b[0m \u001b[39mfinally\u001b[39;00m:\n\u001b[0;32m     69\u001b[0m   \u001b[39mdel\u001b[39;00m filtered_tb\n",
      "File \u001b[1;32mc:\\jhs\\project\\dacon_crime\\jhs_crime\\lib\\site-packages\\tensorflow\\python\\framework\\constant_op.py:102\u001b[0m, in \u001b[0;36mconvert_to_eager_tensor\u001b[1;34m(value, ctx, dtype)\u001b[0m\n\u001b[0;32m    100\u001b[0m     dtype \u001b[39m=\u001b[39m dtypes\u001b[39m.\u001b[39mas_dtype(dtype)\u001b[39m.\u001b[39mas_datatype_enum\n\u001b[0;32m    101\u001b[0m ctx\u001b[39m.\u001b[39mensure_initialized()\n\u001b[1;32m--> 102\u001b[0m \u001b[39mreturn\u001b[39;00m ops\u001b[39m.\u001b[39;49mEagerTensor(value, ctx\u001b[39m.\u001b[39;49mdevice_name, dtype)\n",
      "\u001b[1;31mInternalError\u001b[0m: Failed copying input tensor from /job:localhost/replica:0/task:0/device:CPU:0 to /job:localhost/replica:0/task:0/device:GPU:0 in order to run _EagerConst: Dst tensor is not initialized."
     ]
    }
   ],
   "source": [
    "hist = model.fit(Train_X, Train_y, validation_data=(Val_X, Val_y), batch_size=batch_size, epochs=epoch, callbacks=[es, mc, rlr, csv])"
   ]
  },
  {
   "cell_type": "code",
   "execution_count": 25,
   "metadata": {},
   "outputs": [
    {
     "name": "stdout",
     "output_type": "stream",
     "text": [
      "13/13 [==============================] - 1s 35ms/step\n",
      "              precision    recall  f1-score   support\n",
      "\n",
      "           0       0.71      0.57      0.63       207\n",
      "           1       0.64      0.76      0.69       204\n",
      "\n",
      "    accuracy                           0.67       411\n",
      "   macro avg       0.67      0.67      0.66       411\n",
      "weighted avg       0.67      0.67      0.66       411\n",
      "\n"
     ]
    }
   ],
   "source": [
    "print(classification_report(Val_y, np.where(model.predict(Val_X)>.5, 1, 0)))"
   ]
  },
  {
   "cell_type": "code",
   "execution_count": 15,
   "metadata": {},
   "outputs": [
    {
     "name": "stdout",
     "output_type": "stream",
     "text": [
      "13/13 [==============================] - 1s 34ms/step\n",
      "              precision    recall  f1-score   support\n",
      "\n",
      "           0       0.66      0.69      0.67       207\n",
      "           1       0.67      0.64      0.66       204\n",
      "\n",
      "    accuracy                           0.66       411\n",
      "   macro avg       0.66      0.66      0.66       411\n",
      "weighted avg       0.66      0.66      0.66       411\n",
      "\n"
     ]
    }
   ],
   "source": [
    "print(classification_report(Val_y, np.where(model.predict(Val_X)>.5, 1, 0)))"
   ]
  },
  {
   "cell_type": "code",
   "execution_count": 22,
   "metadata": {},
   "outputs": [
    {
     "name": "stdout",
     "output_type": "stream",
     "text": [
      "39/39 [==============================] - 2s 40ms/step\n"
     ]
    }
   ],
   "source": [
    "res = model.predict(X_test)"
   ]
  },
  {
   "cell_type": "code",
   "execution_count": 30,
   "metadata": {},
   "outputs": [
    {
     "name": "stdout",
     "output_type": "stream",
     "text": [
      "39/39 [==============================] - 2s 39ms/step\n"
     ]
    }
   ],
   "source": [
    "res2 = model.predict(X_test)"
   ]
  },
  {
   "cell_type": "code",
   "execution_count": 31,
   "metadata": {},
   "outputs": [
    {
     "name": "stdout",
     "output_type": "stream",
     "text": [
      "13/13 [==============================] - 1s 36ms/step - loss: 0.6568 - acc: 0.6667\n"
     ]
    },
    {
     "data": {
      "text/plain": [
       "[0.6568349003791809, 0.6666666865348816]"
      ]
     },
     "execution_count": 31,
     "metadata": {},
     "output_type": "execute_result"
    }
   ],
   "source": [
    "model.evaluate(Val_X, Val_y)"
   ]
  },
  {
   "cell_type": "code",
   "execution_count": 47,
   "metadata": {},
   "outputs": [
    {
     "name": "stdout",
     "output_type": "stream",
     "text": [
      "Model: \"sequential_11\"\n",
      "_________________________________________________________________\n",
      " Layer (type)                Output Shape              Param #   \n",
      "=================================================================\n",
      " embedding_9 (Embedding)     (None, None, 4)           845168    \n",
      "                                                                 \n",
      " lstm_9 (LSTM)               (None, 128)               68096     \n",
      "                                                                 \n",
      " dense_15 (Dense)            (None, 1)                 129       \n",
      "                                                                 \n",
      "=================================================================\n",
      "Total params: 913,393\n",
      "Trainable params: 913,393\n",
      "Non-trainable params: 0\n",
      "_________________________________________________________________\n"
     ]
    }
   ],
   "source": [
    "batch_size = 32\n",
    "input_dim = Train_X.shape[1]\n",
    "epoch = 30\n",
    "embedding_dim= 4\n",
    "\n",
    "model2 = keras.models.Sequential([\n",
    "        keras.layers.Embedding(input_dim, embedding_dim),\n",
    "        keras.layers.LSTM(128, activation='relu'),\n",
    "        keras.layers.Dense(1, activation='sigmoid')\n",
    "])\n",
    "\n",
    "es = keras.callbacks.EarlyStopping(monitor='val_acc', patience=10, verbose=1, mode='max', restore_best_weights=True)\n",
    "mc = keras.callbacks.ModelCheckpoint(f\"./model/LSTM.h5\", save_best_only=True)\n",
    "rlr = keras.callbacks.ReduceLROnPlateau(monitor='val_acc', factor=.9, patience=5, verbose=1, mode='max', min_lr=.0005)\n",
    "csv = keras.callbacks.CSVLogger(\"./model/LSTM.log\")\n",
    "\n",
    "loss = keras.losses.BinaryCrossentropy()\n",
    "optimizer = keras.optimizers.Adam(learning_rate=.0001)\n",
    "\n",
    "model2.summary()\n",
    "model2.compile(loss=loss, optimizer=optimizer, metrics=['acc'])"
   ]
  },
  {
   "cell_type": "code",
   "execution_count": 45,
   "metadata": {},
   "outputs": [
    {
     "name": "stdout",
     "output_type": "stream",
     "text": [
      "Epoch 1/30\n",
      "39/39 [==============================] - 11s 282ms/step - loss: 8.7860e-05 - acc: 1.0000 - val_loss: 0.8560 - val_acc: 0.6302 - lr: 1.0000e-04\n",
      "Epoch 2/30\n",
      "39/39 [==============================] - 9s 238ms/step - loss: 8.0074e-05 - acc: 1.0000 - val_loss: 0.8585 - val_acc: 0.6302 - lr: 1.0000e-04\n",
      "Epoch 3/30\n",
      "39/39 [==============================] - 9s 233ms/step - loss: 8.5014e-05 - acc: 1.0000 - val_loss: 0.8611 - val_acc: 0.6302 - lr: 1.0000e-04\n",
      "Epoch 4/30\n",
      "39/39 [==============================] - 9s 234ms/step - loss: 7.1015e-05 - acc: 1.0000 - val_loss: 0.8630 - val_acc: 0.6302 - lr: 1.0000e-04\n",
      "Epoch 5/30\n",
      "39/39 [==============================] - 9s 236ms/step - loss: 7.0761e-05 - acc: 1.0000 - val_loss: 0.8650 - val_acc: 0.6302 - lr: 1.0000e-04\n",
      "Epoch 6/30\n",
      "39/39 [==============================] - 9s 238ms/step - loss: 6.7259e-05 - acc: 1.0000 - val_loss: 0.8670 - val_acc: 0.6302 - lr: 1.0000e-04\n",
      "Epoch 7/30\n",
      "39/39 [==============================] - 9s 239ms/step - loss: 6.0973e-05 - acc: 1.0000 - val_loss: 0.8691 - val_acc: 0.6302 - lr: 1.0000e-04\n",
      "Epoch 8/30\n",
      "39/39 [==============================] - 9s 236ms/step - loss: 5.8110e-05 - acc: 1.0000 - val_loss: 0.8705 - val_acc: 0.6302 - lr: 1.0000e-04\n",
      "Epoch 9/30\n",
      "39/39 [==============================] - 9s 237ms/step - loss: 5.3939e-05 - acc: 1.0000 - val_loss: 0.8717 - val_acc: 0.6350 - lr: 1.0000e-04\n",
      "Epoch 10/30\n",
      "39/39 [==============================] - 9s 236ms/step - loss: 5.9459e-05 - acc: 1.0000 - val_loss: 0.8738 - val_acc: 0.6302 - lr: 1.0000e-04\n",
      "Epoch 11/30\n",
      "39/39 [==============================] - 9s 235ms/step - loss: 5.4758e-05 - acc: 1.0000 - val_loss: 0.8760 - val_acc: 0.6302 - lr: 1.0000e-04\n",
      "Epoch 12/30\n",
      "39/39 [==============================] - 9s 236ms/step - loss: 5.7780e-05 - acc: 1.0000 - val_loss: 0.8774 - val_acc: 0.6302 - lr: 1.0000e-04\n",
      "Epoch 13/30\n",
      "39/39 [==============================] - 9s 234ms/step - loss: 5.0801e-05 - acc: 1.0000 - val_loss: 0.8794 - val_acc: 0.6326 - lr: 1.0000e-04\n",
      "Epoch 14/30\n",
      "39/39 [==============================] - 9s 234ms/step - loss: 4.5888e-05 - acc: 1.0000 - val_loss: 0.8812 - val_acc: 0.6326 - lr: 1.0000e-04\n",
      "Epoch 15/30\n",
      "39/39 [==============================] - 9s 234ms/step - loss: 4.6561e-05 - acc: 1.0000 - val_loss: 0.8828 - val_acc: 0.6302 - lr: 1.0000e-04\n",
      "Epoch 16/30\n",
      "39/39 [==============================] - 9s 235ms/step - loss: 4.1564e-05 - acc: 1.0000 - val_loss: 0.8845 - val_acc: 0.6326 - lr: 1.0000e-04\n",
      "Epoch 17/30\n",
      "39/39 [==============================] - 9s 243ms/step - loss: 4.3110e-05 - acc: 1.0000 - val_loss: 0.8863 - val_acc: 0.6302 - lr: 1.0000e-04\n",
      "Epoch 18/30\n",
      "39/39 [==============================] - 9s 239ms/step - loss: 3.6627e-05 - acc: 1.0000 - val_loss: 0.8880 - val_acc: 0.6302 - lr: 1.0000e-04\n",
      "Epoch 19/30\n",
      "39/39 [==============================] - ETA: 0s - loss: 3.5730e-05 - acc: 1.0000Restoring model weights from the end of the best epoch: 9.\n",
      "39/39 [==============================] - 10s 247ms/step - loss: 3.5730e-05 - acc: 1.0000 - val_loss: 0.8895 - val_acc: 0.6302 - lr: 1.0000e-04\n",
      "Epoch 19: early stopping\n"
     ]
    }
   ],
   "source": [
    "hist = model2.fit(Train_X, Train_y, validation_data=(Val_X, Val_y), batch_size=batch_size, epochs=epoch, callbacks=[es, mc, rlr, csv])"
   ]
  },
  {
   "cell_type": "code",
   "execution_count": null,
   "metadata": {},
   "outputs": [],
   "source": [
    "print(classification_report(Val_y, np.where(model.predict(Val_X)>.5, 1, 0)))"
   ]
  },
  {
   "cell_type": "code",
   "execution_count": 48,
   "metadata": {},
   "outputs": [
    {
     "name": "stdout",
     "output_type": "stream",
     "text": [
      "13/13 [==============================] - 271s 21s/step - loss: 0.6932 - acc: 0.4964\n"
     ]
    },
    {
     "data": {
      "text/plain": [
       "[0.6931524276733398, 0.49635037779808044]"
      ]
     },
     "execution_count": 48,
     "metadata": {},
     "output_type": "execute_result"
    }
   ],
   "source": [
    "model2.evaluate(Val_X, Val_y)"
   ]
  },
  {
   "cell_type": "code",
   "execution_count": 43,
   "metadata": {},
   "outputs": [
    {
     "name": "stdout",
     "output_type": "stream",
     "text": [
      "13/13 [==============================] - 1s 35ms/step - loss: 0.8538 - acc: 0.6326\n"
     ]
    },
    {
     "data": {
      "text/plain": [
       "[0.8538404107093811, 0.6326034069061279]"
      ]
     },
     "execution_count": 43,
     "metadata": {},
     "output_type": "execute_result"
    }
   ],
   "source": [
    "model.evaluate(Val_X, Val_y)"
   ]
  },
  {
   "cell_type": "code",
   "execution_count": 37,
   "metadata": {},
   "outputs": [
    {
     "name": "stdout",
     "output_type": "stream",
     "text": [
      "13/13 [==============================] - 1s 36ms/step - loss: 0.8350 - acc: 0.6302\n"
     ]
    },
    {
     "data": {
      "text/plain": [
       "[0.8349686861038208, 0.6301703453063965]"
      ]
     },
     "execution_count": 37,
     "metadata": {},
     "output_type": "execute_result"
    }
   ],
   "source": [
    "model.evaluate(Val_X, Val_y)"
   ]
  },
  {
   "cell_type": "code",
   "execution_count": 27,
   "metadata": {},
   "outputs": [],
   "source": [
    "submission['first_party_winner'] = Logistic.predict(X_test)"
   ]
  },
  {
   "cell_type": "code",
   "execution_count": 29,
   "metadata": {},
   "outputs": [],
   "source": [
    "submission.to_csv('logi.csv', index=False)"
   ]
  }
 ],
 "metadata": {
  "kernelspec": {
   "display_name": "jhs_legal",
   "language": "python",
   "name": "python3"
  },
  "language_info": {
   "codemirror_mode": {
    "name": "ipython",
    "version": 3
   },
   "file_extension": ".py",
   "mimetype": "text/x-python",
   "name": "python",
   "nbconvert_exporter": "python",
   "pygments_lexer": "ipython3",
   "version": "3.10.11"
  },
  "orig_nbformat": 4
 },
 "nbformat": 4,
 "nbformat_minor": 2
}
