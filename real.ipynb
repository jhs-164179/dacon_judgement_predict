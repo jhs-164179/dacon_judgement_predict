{
 "cells": [
  {
   "cell_type": "code",
   "execution_count": 94,
   "metadata": {},
   "outputs": [],
   "source": [
    "import pandas as pd\n",
    "import numpy as np\n",
    "from sklearn.metrics import accuracy_score as acc\n",
    "from sklearn.model_selection import train_test_split\n",
    "from sklearn.feature_extraction.text import TfidfVectorizer\n",
    "from sklearn.linear_model import LogisticRegression\n",
    "from lightgbm import LGBMClassifier\n",
    "from xgboost import XGBClassifier\n",
    "from catboost import CatBoostClassifier"
   ]
  },
  {
   "cell_type": "code",
   "execution_count": 77,
   "metadata": {},
   "outputs": [],
   "source": [
    "train = pd.read_csv('train.csv')\n",
    "test = pd.read_csv('test.csv')\n",
    "submission = pd.read_csv('sample_submission.csv')"
   ]
  },
  {
   "cell_type": "code",
   "execution_count": 78,
   "metadata": {},
   "outputs": [
    {
     "data": {
      "text/html": [
       "<div>\n",
       "<style scoped>\n",
       "    .dataframe tbody tr th:only-of-type {\n",
       "        vertical-align: middle;\n",
       "    }\n",
       "\n",
       "    .dataframe tbody tr th {\n",
       "        vertical-align: top;\n",
       "    }\n",
       "\n",
       "    .dataframe thead th {\n",
       "        text-align: right;\n",
       "    }\n",
       "</style>\n",
       "<table border=\"1\" class=\"dataframe\">\n",
       "  <thead>\n",
       "    <tr style=\"text-align: right;\">\n",
       "      <th></th>\n",
       "      <th>ID</th>\n",
       "      <th>first_party</th>\n",
       "      <th>second_party</th>\n",
       "      <th>facts</th>\n",
       "      <th>first_party_winner</th>\n",
       "    </tr>\n",
       "  </thead>\n",
       "  <tbody>\n",
       "    <tr>\n",
       "      <th>0</th>\n",
       "      <td>TRAIN_0000</td>\n",
       "      <td>Phil A. St. Amant</td>\n",
       "      <td>Herman A. Thompson</td>\n",
       "      <td>On June 27, 1962, Phil St. Amant, a candidate ...</td>\n",
       "      <td>1</td>\n",
       "    </tr>\n",
       "    <tr>\n",
       "      <th>1</th>\n",
       "      <td>TRAIN_0001</td>\n",
       "      <td>Stephen Duncan</td>\n",
       "      <td>Lawrence Owens</td>\n",
       "      <td>Ramon Nelson was riding his bike when he suffe...</td>\n",
       "      <td>0</td>\n",
       "    </tr>\n",
       "    <tr>\n",
       "      <th>2</th>\n",
       "      <td>TRAIN_0002</td>\n",
       "      <td>Billy Joe Magwood</td>\n",
       "      <td>Tony Patterson, Warden, et al.</td>\n",
       "      <td>An Alabama state court convicted Billy Joe Mag...</td>\n",
       "      <td>1</td>\n",
       "    </tr>\n",
       "  </tbody>\n",
       "</table>\n",
       "</div>"
      ],
      "text/plain": [
       "           ID        first_party                    second_party  \\\n",
       "0  TRAIN_0000  Phil A. St. Amant              Herman A. Thompson   \n",
       "1  TRAIN_0001     Stephen Duncan                  Lawrence Owens   \n",
       "2  TRAIN_0002  Billy Joe Magwood  Tony Patterson, Warden, et al.   \n",
       "\n",
       "                                               facts  first_party_winner  \n",
       "0  On June 27, 1962, Phil St. Amant, a candidate ...                   1  \n",
       "1  Ramon Nelson was riding his bike when he suffe...                   0  \n",
       "2  An Alabama state court convicted Billy Joe Mag...                   1  "
      ]
     },
     "execution_count": 78,
     "metadata": {},
     "output_type": "execute_result"
    }
   ],
   "source": [
    "train.head(3)"
   ]
  },
  {
   "cell_type": "code",
   "execution_count": 79,
   "metadata": {},
   "outputs": [
    {
     "data": {
      "text/html": [
       "<div>\n",
       "<style scoped>\n",
       "    .dataframe tbody tr th:only-of-type {\n",
       "        vertical-align: middle;\n",
       "    }\n",
       "\n",
       "    .dataframe tbody tr th {\n",
       "        vertical-align: top;\n",
       "    }\n",
       "\n",
       "    .dataframe thead th {\n",
       "        text-align: right;\n",
       "    }\n",
       "</style>\n",
       "<table border=\"1\" class=\"dataframe\">\n",
       "  <thead>\n",
       "    <tr style=\"text-align: right;\">\n",
       "      <th></th>\n",
       "      <th>ID</th>\n",
       "      <th>first_party</th>\n",
       "      <th>second_party</th>\n",
       "      <th>facts</th>\n",
       "      <th>first_party_winner</th>\n",
       "    </tr>\n",
       "  </thead>\n",
       "  <tbody>\n",
       "    <tr>\n",
       "      <th>count</th>\n",
       "      <td>2478</td>\n",
       "      <td>2478</td>\n",
       "      <td>2478</td>\n",
       "      <td>2478</td>\n",
       "      <td>2478.000000</td>\n",
       "    </tr>\n",
       "    <tr>\n",
       "      <th>unique</th>\n",
       "      <td>2478</td>\n",
       "      <td>2110</td>\n",
       "      <td>1974</td>\n",
       "      <td>2478</td>\n",
       "      <td>NaN</td>\n",
       "    </tr>\n",
       "    <tr>\n",
       "      <th>top</th>\n",
       "      <td>TRAIN_0000</td>\n",
       "      <td>United States</td>\n",
       "      <td>United States</td>\n",
       "      <td>On June 27, 1962, Phil St. Amant, a candidate ...</td>\n",
       "      <td>NaN</td>\n",
       "    </tr>\n",
       "    <tr>\n",
       "      <th>freq</th>\n",
       "      <td>1</td>\n",
       "      <td>154</td>\n",
       "      <td>240</td>\n",
       "      <td>1</td>\n",
       "      <td>NaN</td>\n",
       "    </tr>\n",
       "    <tr>\n",
       "      <th>mean</th>\n",
       "      <td>NaN</td>\n",
       "      <td>NaN</td>\n",
       "      <td>NaN</td>\n",
       "      <td>NaN</td>\n",
       "      <td>0.665456</td>\n",
       "    </tr>\n",
       "    <tr>\n",
       "      <th>std</th>\n",
       "      <td>NaN</td>\n",
       "      <td>NaN</td>\n",
       "      <td>NaN</td>\n",
       "      <td>NaN</td>\n",
       "      <td>0.471926</td>\n",
       "    </tr>\n",
       "    <tr>\n",
       "      <th>min</th>\n",
       "      <td>NaN</td>\n",
       "      <td>NaN</td>\n",
       "      <td>NaN</td>\n",
       "      <td>NaN</td>\n",
       "      <td>0.000000</td>\n",
       "    </tr>\n",
       "    <tr>\n",
       "      <th>25%</th>\n",
       "      <td>NaN</td>\n",
       "      <td>NaN</td>\n",
       "      <td>NaN</td>\n",
       "      <td>NaN</td>\n",
       "      <td>0.000000</td>\n",
       "    </tr>\n",
       "    <tr>\n",
       "      <th>50%</th>\n",
       "      <td>NaN</td>\n",
       "      <td>NaN</td>\n",
       "      <td>NaN</td>\n",
       "      <td>NaN</td>\n",
       "      <td>1.000000</td>\n",
       "    </tr>\n",
       "    <tr>\n",
       "      <th>75%</th>\n",
       "      <td>NaN</td>\n",
       "      <td>NaN</td>\n",
       "      <td>NaN</td>\n",
       "      <td>NaN</td>\n",
       "      <td>1.000000</td>\n",
       "    </tr>\n",
       "    <tr>\n",
       "      <th>max</th>\n",
       "      <td>NaN</td>\n",
       "      <td>NaN</td>\n",
       "      <td>NaN</td>\n",
       "      <td>NaN</td>\n",
       "      <td>1.000000</td>\n",
       "    </tr>\n",
       "  </tbody>\n",
       "</table>\n",
       "</div>"
      ],
      "text/plain": [
       "                ID    first_party   second_party  \\\n",
       "count         2478           2478           2478   \n",
       "unique        2478           2110           1974   \n",
       "top     TRAIN_0000  United States  United States   \n",
       "freq             1            154            240   \n",
       "mean           NaN            NaN            NaN   \n",
       "std            NaN            NaN            NaN   \n",
       "min            NaN            NaN            NaN   \n",
       "25%            NaN            NaN            NaN   \n",
       "50%            NaN            NaN            NaN   \n",
       "75%            NaN            NaN            NaN   \n",
       "max            NaN            NaN            NaN   \n",
       "\n",
       "                                                    facts  first_party_winner  \n",
       "count                                                2478         2478.000000  \n",
       "unique                                               2478                 NaN  \n",
       "top     On June 27, 1962, Phil St. Amant, a candidate ...                 NaN  \n",
       "freq                                                    1                 NaN  \n",
       "mean                                                  NaN            0.665456  \n",
       "std                                                   NaN            0.471926  \n",
       "min                                                   NaN            0.000000  \n",
       "25%                                                   NaN            0.000000  \n",
       "50%                                                   NaN            1.000000  \n",
       "75%                                                   NaN            1.000000  \n",
       "max                                                   NaN            1.000000  "
      ]
     },
     "execution_count": 79,
     "metadata": {},
     "output_type": "execute_result"
    }
   ],
   "source": [
    "train.describe(include='all')"
   ]
  },
  {
   "cell_type": "code",
   "execution_count": 80,
   "metadata": {},
   "outputs": [
    {
     "name": "stdout",
     "output_type": "stream",
     "text": [
      "<class 'pandas.core.frame.DataFrame'>\n",
      "RangeIndex: 2478 entries, 0 to 2477\n",
      "Data columns (total 5 columns):\n",
      " #   Column              Non-Null Count  Dtype \n",
      "---  ------              --------------  ----- \n",
      " 0   ID                  2478 non-null   object\n",
      " 1   first_party         2478 non-null   object\n",
      " 2   second_party        2478 non-null   object\n",
      " 3   facts               2478 non-null   object\n",
      " 4   first_party_winner  2478 non-null   int64 \n",
      "dtypes: int64(1), object(4)\n",
      "memory usage: 96.9+ KB\n"
     ]
    }
   ],
   "source": [
    "train.info()"
   ]
  },
  {
   "cell_type": "code",
   "execution_count": 81,
   "metadata": {},
   "outputs": [],
   "source": [
    "train.drop('ID',axis=1, inplace=True)\n",
    "test.drop('ID',axis=1, inplace=True)"
   ]
  },
  {
   "cell_type": "code",
   "execution_count": 82,
   "metadata": {},
   "outputs": [],
   "source": [
    "# train, test 문자열 데이터의 좌우 공백 제거하기\n",
    "for col in train.columns[:-1]:\n",
    "    train[col] = train[col].str.strip()\n",
    "for col in test.columns:\n",
    "    test[col] = test[col].str.strip()\n",
    "\n",
    "\n",
    "# 1) et al. , inc. 포함 여부로 회사, 단체 여부 확인\n",
    "\n",
    "# train_first\n",
    "lst_many = []\n",
    "lst_company = []\n",
    "\n",
    "for first in train['first_party']:\n",
    "    if \"et al.\" in first:\n",
    "        lst_many.append(1)\n",
    "    else:\n",
    "        lst_many.append(0)\n",
    "\n",
    "    if \"Inc.\" in first:\n",
    "        lst_company.append(1)\n",
    "    else:\n",
    "        lst_company.append(0)\n",
    "\n",
    "train['first_many'] = lst_many\n",
    "train['first_company'] = lst_company\n",
    "\n",
    "# test_first\n",
    "lst_many = []\n",
    "lst_company = []\n",
    "\n",
    "for first in test['first_party']:\n",
    "    if \"et al.\" in first:\n",
    "        lst_many.append(1)\n",
    "    else:\n",
    "        lst_many.append(0)\n",
    "\n",
    "    if \"Inc.\" in first:\n",
    "        lst_company.append(1)\n",
    "    else:\n",
    "        lst_company.append(0)\n",
    "\n",
    "test['first_many'] = lst_many\n",
    "test['first_company'] = lst_company\n",
    "\n",
    "# train_second\n",
    "lst_many = []\n",
    "lst_company = []\n",
    "\n",
    "for second in train['second_party']:\n",
    "    if \"et al.\" in second:\n",
    "        lst_many.append(1)\n",
    "    else:\n",
    "        lst_many.append(0)\n",
    "\n",
    "    if \"Inc.\" in second:\n",
    "        lst_company.append(1)\n",
    "    else:\n",
    "        lst_company.append(0)\n",
    "\n",
    "train['second_many'] = lst_many\n",
    "train['second_company'] = lst_company\n",
    "\n",
    "# test_second\n",
    "lst_many = []\n",
    "lst_company = []\n",
    "\n",
    "for second in test['second_party']:\n",
    "    if \"et al.\" in second:\n",
    "        lst_many.append(1)\n",
    "    else:\n",
    "        lst_many.append(0)\n",
    "\n",
    "    if \"Inc.\" in second:\n",
    "        lst_company.append(1)\n",
    "    else:\n",
    "        lst_company.append(0)\n",
    "\n",
    "test['second_many'] = lst_many\n",
    "test['second_company'] = lst_company"
   ]
  },
  {
   "cell_type": "code",
   "execution_count": 83,
   "metadata": {},
   "outputs": [],
   "source": [
    "vectorizer = TfidfVectorizer()\n",
    "def get_vector(vectorizer, df, train_mode):\n",
    "    if train_mode:\n",
    "        X_facts = vectorizer.fit_transform(df['facts'])\n",
    "    else:\n",
    "        X_facts = vectorizer.transform(df['facts'])\n",
    "    X_party1 = vectorizer.transform(df['first_party'])\n",
    "    X_party2 = vectorizer.transform(df['second_party'])\n",
    "    \n",
    "    X = np.concatenate([X_party1.todense(), X_party2.todense(), X_facts.todense()], axis=1)\n",
    "    return X"
   ]
  },
  {
   "cell_type": "code",
   "execution_count": 84,
   "metadata": {},
   "outputs": [],
   "source": [
    "X_train = get_vector(vectorizer, train, True)\n",
    "Y_train = train[\"first_party_winner\"]\n",
    "X_test = get_vector(vectorizer, test, False)"
   ]
  },
  {
   "cell_type": "code",
   "execution_count": 85,
   "metadata": {},
   "outputs": [],
   "source": [
    "X_train = pd.concat([pd.DataFrame(X_train), train[['first_many','first_company','second_many','second_company']]], axis=1)\n",
    "X_test = pd.concat([pd.DataFrame(X_test), test[['first_many','first_company','second_many','second_company']]], axis=1)"
   ]
  },
  {
   "cell_type": "code",
   "execution_count": 86,
   "metadata": {},
   "outputs": [
    {
     "name": "stdout",
     "output_type": "stream",
     "text": [
      "1982\n",
      "496\n",
      "1240\n"
     ]
    }
   ],
   "source": [
    "# 비율에 맞게 추출\n",
    "X_tr, X_val, Y_tr, Y_val = train_test_split(X_train, Y_train, test_size=.2, stratify=Y_train, random_state=42)\n",
    "X_tr = X_tr.astype(float)\n",
    "X_val = X_val.astype(float)\n",
    "X_test = X_test.astype(float)\n",
    "print(len(X_tr))\n",
    "print(len(X_val))\n",
    "print(len(X_test))\n",
    "\n",
    "# 비율 맞추기는 고민..."
   ]
  },
  {
   "cell_type": "code",
   "execution_count": 87,
   "metadata": {},
   "outputs": [],
   "source": [
    "X_tr.rename(columns={'first_many':99001,'first_company':99002,'second_many':99003,'second_company':99004}, inplace=True)\n",
    "X_val.rename(columns={'first_many':99001,'first_company':99002,'second_many':99003,'second_company':99004}, inplace=True)\n",
    "X_test.rename(columns={'first_many':99001,'first_company':99002,'second_many':99003,'second_company':99004}, inplace=True)"
   ]
  },
  {
   "cell_type": "code",
   "execution_count": 88,
   "metadata": {},
   "outputs": [
    {
     "name": "stdout",
     "output_type": "stream",
     "text": [
      "0.6491935483870968\n"
     ]
    }
   ],
   "source": [
    "model1 = LogisticRegression(random_state=42)\n",
    "model1.fit(X_tr, Y_tr)\n",
    "print(model1.score(X_val, Y_val))"
   ]
  },
  {
   "cell_type": "code",
   "execution_count": 90,
   "metadata": {},
   "outputs": [
    {
     "data": {
      "text/plain": [
       "first_party_winner\n",
       "1    1319\n",
       "0     663\n",
       "Name: count, dtype: int64"
      ]
     },
     "execution_count": 90,
     "metadata": {},
     "output_type": "execute_result"
    }
   ],
   "source": [
    "Y_tr.value_counts()"
   ]
  },
  {
   "cell_type": "code",
   "execution_count": 91,
   "metadata": {},
   "outputs": [
    {
     "data": {
      "text/plain": [
       "first_party_winner\n",
       "1    330\n",
       "0    166\n",
       "Name: count, dtype: int64"
      ]
     },
     "execution_count": 91,
     "metadata": {},
     "output_type": "execute_result"
    }
   ],
   "source": [
    "Y_val.value_counts()"
   ]
  },
  {
   "cell_type": "code",
   "execution_count": 92,
   "metadata": {},
   "outputs": [],
   "source": [
    "model2 = LGBMClassifier(scale_pos_weight=0.5026535253980288, random_state=42)\n",
    "model3 = XGBClassifier(scale_pos_weight=0.5026535253980288, random_state=42)"
   ]
  },
  {
   "cell_type": "code",
   "execution_count": 93,
   "metadata": {},
   "outputs": [
    {
     "name": "stdout",
     "output_type": "stream",
     "text": [
      "0.5987903225806451\n",
      "0.6169354838709677\n"
     ]
    }
   ],
   "source": [
    "model2.fit(X_tr, Y_tr)\n",
    "print(model2.score(X_val, Y_val))\n",
    "model3.fit(X_tr, Y_tr)\n",
    "print(model3.score(X_val, Y_val))"
   ]
  },
  {
   "cell_type": "code",
   "execution_count": 97,
   "metadata": {},
   "outputs": [
    {
     "name": "stdout",
     "output_type": "stream",
     "text": [
      "Learning rate set to 0.037523\n",
      "0:\tlearn: 0.6913894\ttest: 0.6926936\tbest: 0.6926936 (0)\ttotal: 49.6ms\tremaining: 49.6s\n",
      "100:\tlearn: 0.5859336\ttest: 0.6991115\tbest: 0.6880875 (23)\ttotal: 4.9s\tremaining: 43.6s\n",
      "200:\tlearn: 0.5132920\ttest: 0.7058491\tbest: 0.6880875 (23)\ttotal: 9.58s\tremaining: 38.1s\n",
      "300:\tlearn: 0.4205290\ttest: 0.7162075\tbest: 0.6880875 (23)\ttotal: 14.2s\tremaining: 33.1s\n",
      "400:\tlearn: 0.3427533\ttest: 0.7320026\tbest: 0.6880875 (23)\ttotal: 18.9s\tremaining: 28.2s\n",
      "500:\tlearn: 0.2843163\ttest: 0.7447566\tbest: 0.6880875 (23)\ttotal: 23.5s\tremaining: 23.4s\n",
      "600:\tlearn: 0.2410538\ttest: 0.7599966\tbest: 0.6880875 (23)\ttotal: 28.2s\tremaining: 18.7s\n",
      "700:\tlearn: 0.2052426\ttest: 0.7733845\tbest: 0.6880875 (23)\ttotal: 32.8s\tremaining: 14s\n",
      "800:\tlearn: 0.1763995\ttest: 0.7889394\tbest: 0.6880875 (23)\ttotal: 37.4s\tremaining: 9.3s\n",
      "900:\tlearn: 0.1528489\ttest: 0.8007475\tbest: 0.6880875 (23)\ttotal: 42.1s\tremaining: 4.62s\n",
      "999:\tlearn: 0.1325559\ttest: 0.8167452\tbest: 0.6880875 (23)\ttotal: 46.7s\tremaining: 0us\n",
      "\n",
      "bestTest = 0.6880875497\n",
      "bestIteration = 23\n",
      "\n",
      "Shrink model to first 24 iterations.\n"
     ]
    },
    {
     "data": {
      "text/plain": [
       "<catboost.core.CatBoostClassifier at 0x21cce126f80>"
      ]
     },
     "execution_count": 97,
     "metadata": {},
     "output_type": "execute_result"
    }
   ],
   "source": [
    "model4 = CatBoostClassifier(scale_pos_weight=0.5026535253980288, random_state=42, use_best_model=True)\n",
    "model4.fit(X_tr, Y_tr, eval_set=(X_val, Y_val), verbose=100)"
   ]
  },
  {
   "cell_type": "code",
   "execution_count": 98,
   "metadata": {},
   "outputs": [
    {
     "name": "stdout",
     "output_type": "stream",
     "text": [
      "0.5544354838709677\n"
     ]
    }
   ],
   "source": [
    "print(model4.score(X_val, Y_val))"
   ]
  },
  {
   "cell_type": "code",
   "execution_count": 104,
   "metadata": {},
   "outputs": [],
   "source": [
    "submission['first_party_winner'] = model1.predict(X_test)\n",
    "submission.to_csv('0612_logistic.csv', index=False)"
   ]
  },
  {
   "cell_type": "code",
   "execution_count": 105,
   "metadata": {},
   "outputs": [],
   "source": [
    "submission['first_party_winner'] = model3.predict(X_test)\n",
    "submission.to_csv('0612_XGB.csv', index=False)"
   ]
  },
  {
   "cell_type": "code",
   "execution_count": 106,
   "metadata": {},
   "outputs": [],
   "source": [
    "submission['first_party_winner'] = model2.predict(X_test)\n",
    "submission.to_csv('0612_lgbm.csv', index=False)"
   ]
  }
 ],
 "metadata": {
  "kernelspec": {
   "display_name": "jhs_tf",
   "language": "python",
   "name": "python3"
  },
  "language_info": {
   "codemirror_mode": {
    "name": "ipython",
    "version": 3
   },
   "file_extension": ".py",
   "mimetype": "text/x-python",
   "name": "python",
   "nbconvert_exporter": "python",
   "pygments_lexer": "ipython3",
   "version": "3.10.10"
  },
  "orig_nbformat": 4
 },
 "nbformat": 4,
 "nbformat_minor": 2
}
