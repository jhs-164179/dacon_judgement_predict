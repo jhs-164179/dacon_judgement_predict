{
 "cells": [
  {
   "cell_type": "code",
   "execution_count": 7,
   "metadata": {},
   "outputs": [],
   "source": [
    "import pandas as pd\n",
    "from sklearn.model_selection import train_test_split\n",
    "import tensorflow as tf\n",
    "from tensorflow import keras\n",
    "from tensorflow.keras import layers"
   ]
  },
  {
   "cell_type": "code",
   "execution_count": 11,
   "metadata": {},
   "outputs": [],
   "source": [
    "train = pd.read_csv('./data/train.csv').drop('ID', axis=1)\n",
    "test = pd.read_csv('./data/test.csv').drop('ID', axis=1)"
   ]
  },
  {
   "cell_type": "code",
   "execution_count": 8,
   "metadata": {},
   "outputs": [],
   "source": [
    "# train['first_party'].replace('[^A-Za-z0-9가-힣]', '', regex=True, inplace=True)\n",
    "# train['second_party'].replace('[^A-Za-z0-9가-힣]', '', regex=True, inplace=True)\n",
    "# train['facts'].replace('[^A-Za-z0-9가-힣]', '', regex=True, inplace=True)\n",
    "\n",
    "# test['first_party'].replace('[^A-Za-z0-9가-힣]', '', regex=True, inplace=True)\n",
    "# test['second_party'].replace('[^A-Za-z0-9가-힣]', '', regex=True, inplace=True)\n",
    "# test['facts'].replace('[^A-Za-z0-9가-힣]', '', regex=True, inplace=True)"
   ]
  },
  {
   "cell_type": "code",
   "execution_count": 12,
   "metadata": {},
   "outputs": [
    {
     "name": "stdout",
     "output_type": "stream",
     "text": [
      "1982 Training Sequences\n",
      "496 Validation Sequences\n"
     ]
    },
    {
     "ename": "ValueError",
     "evalue": "invalid literal for int() with base 10: 'rmed the dismissal and held that the Frys’ claims were essentially educational, which are precisely the sort of claims the IDEA was meant to address, and therefore the exhaustion requirement applied.",
     "output_type": "error",
     "traceback": [
      "\u001b[1;31m---------------------------------------------------------------------------\u001b[0m",
      "\u001b[1;31mValueError\u001b[0m                                Traceback (most recent call last)",
      "Cell \u001b[1;32mIn[12], line 15\u001b[0m\n\u001b[0;32m     12\u001b[0m \u001b[39mprint\u001b[39m(\u001b[39mlen\u001b[39m(x_train), \u001b[39m'\u001b[39m\u001b[39mTraining Sequences\u001b[39m\u001b[39m'\u001b[39m)\n\u001b[0;32m     13\u001b[0m \u001b[39mprint\u001b[39m(\u001b[39mlen\u001b[39m(x_val), \u001b[39m'\u001b[39m\u001b[39mValidation Sequences\u001b[39m\u001b[39m'\u001b[39m)\n\u001b[1;32m---> 15\u001b[0m x_train \u001b[39m=\u001b[39m keras\u001b[39m.\u001b[39;49mutils\u001b[39m.\u001b[39;49mpad_sequences(\n\u001b[0;32m     16\u001b[0m     x_train, maxlen\u001b[39m=\u001b[39;49mnum_tokens_per_example\n\u001b[0;32m     17\u001b[0m )\n\u001b[0;32m     18\u001b[0m x_val \u001b[39m=\u001b[39m keras\u001b[39m.\u001b[39mutils\u001b[39m.\u001b[39mpad_sequences(x_val, maxlen\u001b[39m=\u001b[39mnum_tokens_per_example)\n",
      "File \u001b[1;32mc:\\jhs_pr\\jhs_tf\\lib\\site-packages\\keras\\utils\\data_utils.py:1129\u001b[0m, in \u001b[0;36mpad_sequences\u001b[1;34m(sequences, maxlen, dtype, padding, truncating, value)\u001b[0m\n\u001b[0;32m   1126\u001b[0m     \u001b[39mraise\u001b[39;00m \u001b[39mValueError\u001b[39;00m(\u001b[39mf\u001b[39m\u001b[39m'\u001b[39m\u001b[39mTruncating type \u001b[39m\u001b[39m\"\u001b[39m\u001b[39m{\u001b[39;00mtruncating\u001b[39m}\u001b[39;00m\u001b[39m\"\u001b[39m\u001b[39m not understood\u001b[39m\u001b[39m'\u001b[39m)\n\u001b[0;32m   1128\u001b[0m \u001b[39m# check `trunc` has expected shape\u001b[39;00m\n\u001b[1;32m-> 1129\u001b[0m trunc \u001b[39m=\u001b[39m np\u001b[39m.\u001b[39;49masarray(trunc, dtype\u001b[39m=\u001b[39;49mdtype)\n\u001b[0;32m   1130\u001b[0m \u001b[39mif\u001b[39;00m trunc\u001b[39m.\u001b[39mshape[\u001b[39m1\u001b[39m:] \u001b[39m!=\u001b[39m sample_shape:\n\u001b[0;32m   1131\u001b[0m     \u001b[39mraise\u001b[39;00m \u001b[39mValueError\u001b[39;00m(\n\u001b[0;32m   1132\u001b[0m         \u001b[39mf\u001b[39m\u001b[39m\"\u001b[39m\u001b[39mShape of sample \u001b[39m\u001b[39m{\u001b[39;00mtrunc\u001b[39m.\u001b[39mshape[\u001b[39m1\u001b[39m:]\u001b[39m}\u001b[39;00m\u001b[39m of sequence at \u001b[39m\u001b[39m\"\u001b[39m\n\u001b[0;32m   1133\u001b[0m         \u001b[39mf\u001b[39m\u001b[39m\"\u001b[39m\u001b[39mposition \u001b[39m\u001b[39m{\u001b[39;00midx\u001b[39m}\u001b[39;00m\u001b[39m is different from expected shape \u001b[39m\u001b[39m\"\u001b[39m\n\u001b[0;32m   1134\u001b[0m         \u001b[39mf\u001b[39m\u001b[39m\"\u001b[39m\u001b[39m{\u001b[39;00msample_shape\u001b[39m}\u001b[39;00m\u001b[39m\"\u001b[39m\n\u001b[0;32m   1135\u001b[0m     )\n",
      "\u001b[1;31mValueError\u001b[0m: invalid literal for int() with base 10: 'rmed the dismissal and held that the Frys’ claims were essentially educational, which are precisely the sort of claims the IDEA was meant to address, and therefore the exhaustion requirement applied."
     ]
    }
   ],
   "source": [
    "vocab_size = 5000\n",
    "num_tokens_per_example = 200\n",
    "\n",
    "TRAIN, VAL = train_test_split(train, test_size=.2, random_state=42, stratify=train['first_party_winner'])\n",
    "\n",
    "x_train = TRAIN['facts']\n",
    "y_train = TRAIN['first_party_winner']\n",
    "\n",
    "x_val = VAL['facts']\n",
    "y_val = VAL['first_party_winner']\n",
    "\n",
    "print(len(x_train), 'Training Sequences')\n",
    "print(len(x_val), 'Validation Sequences')\n",
    "\n",
    "x_train = keras.utils.pad_sequences(\n",
    "    x_train, maxlen=num_tokens_per_example\n",
    ")\n",
    "x_val = keras.utils.pad_sequences(x_val, maxlen=num_tokens_per_example)"
   ]
  },
  {
   "cell_type": "code",
   "execution_count": null,
   "metadata": {},
   "outputs": [],
   "source": []
  }
 ],
 "metadata": {
  "kernelspec": {
   "display_name": "jhs_tf",
   "language": "python",
   "name": "python3"
  },
  "language_info": {
   "codemirror_mode": {
    "name": "ipython",
    "version": 3
   },
   "file_extension": ".py",
   "mimetype": "text/x-python",
   "name": "python",
   "nbconvert_exporter": "python",
   "pygments_lexer": "ipython3",
   "version": "3.10.10"
  },
  "orig_nbformat": 4
 },
 "nbformat": 4,
 "nbformat_minor": 2
}
